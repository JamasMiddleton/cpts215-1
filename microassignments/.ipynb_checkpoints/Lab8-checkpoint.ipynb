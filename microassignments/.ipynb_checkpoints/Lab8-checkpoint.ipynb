{
 "cells": [
  {
   "cell_type": "markdown",
   "metadata": {},
   "source": [
    "# [CptS 111 Introduction to Algorithmic Problem Solving](http://piazza.com/wsu/fall2016/cpts111/home)\n",
    "[Washington State University](https://wsu.edu)\n",
    "\n",
    "[Gina Sprint](http://eecs.wsu.edu/~gsprint/)\n",
    "## Lab8 More Loops (10 pts)\n",
    "\n",
    "### Learner Objectives\n",
    "At the conclusion of this lab, participants should be able to:\n",
    "* placeholder\n",
    "\n",
    "### Prerequisites\n",
    "Before starting this lab, participants should be able to:\n",
    "* placeholder"
   ]
  },
  {
   "cell_type": "markdown",
   "metadata": {
    "collapsed": true
   },
   "source": [
    "## Task 1\n",
    "Write a program that prompts the user to enter the following information about a snowflake:\n",
    "1. Arm length\n",
    "1. Number of arms\n",
    "1. Branch length\n",
    "1. Number of branches at the end of the arms. \n",
    "\n",
    "Write a function called `draw_star(my_turtle, arm_length, num_arms, branch_length, num_arm_branches)` that draws a snowflake with arm and branch information specified by the user. You might want to write additional functions! Such as `draw_arm()` and `draw_branch()`.\n",
    "\n",
    "For example (yours does not need to look exactly like this):\n",
    "`draw_snowflake(my_turtle, 100, 10, 30, 8)`\n",
    "![](figures\\loop_snowflake.png)\n"
   ]
  },
  {
   "cell_type": "markdown",
   "metadata": {},
   "source": [
    "## Task 2\n",
    "In this task, use Turtle graphics to draw a snake-like pattern that expands outwards for either a:\n",
    "1. square\n",
    "1. circle\n",
    "1. star\n",
    "\n",
    "Begin by prompting the user for a loop count and what type of shape they would like drawn. Use the number to drive a `for` loop that incrementally increases the distance that the turtle moves forward.\n",
    "![](figures\\box_path.png)\n",
    "![](figures\\circle_path.png)\n",
    "![](figures\\star_path.png)"
   ]
  },
  {
   "cell_type": "markdown",
   "metadata": {},
   "source": [
    "## Task 3\n",
    "a.\tWrite a program that will prompt a user for an integer N, and will print each number (from 1-N) the same number of times as its value. e.g. an input of 5 will result in the following output:\n",
    "\t1\n",
    "\t22\n",
    "\t333\n",
    "\t4444\n",
    "\t55555\n",
    "b.\tComplete the same task, but add the sum in a formatted, right aligned column. e.g.:\n",
    "\t1\t 1\n",
    "\t22\t 4\n",
    "\t333\t 9\n",
    "\t4444\t16\n",
    "\t55555\t25\n",
    "\n",
    "Use functions where appropriate!"
   ]
  },
  {
   "cell_type": "markdown",
   "metadata": {},
   "source": [
    "## Task 4\n",
    "For this task, we will use Turtle graphics. Prompt the user to enter the width of a bounding box centered around the origin. Write code to:\n",
    "1. Draw the bounding box\n",
    "1. Start the turtle at a random location inside the box\n",
    "1. Set the turtle's heading direction to a random angle\n",
    "1. Move the turtle one step at a time, stopping the turtle when the edge of the bounding box is reached"
   ]
  },
  {
   "cell_type": "markdown",
   "metadata": {},
   "source": [
    "## Task 5\n",
    "(Extension of previous task): For this task, we will use Turtle graphics. Write a program to animate a turtle inside of a box. Prompt the user to enter the number of \"edge bounces\" to animate until (call this variable `num_bounces`). An edge bounce occurs when the turtle runs into a wall of the bounding box. Write code to:\n",
    "1. Draw a 200x200 bounding box\n",
    "1. Start the turtle at the origin (center of the box)\n",
    "1. Set a variable `xpixels = random.randrange(2,6)`\n",
    "1. Set a variable `ypixels = random.randrange(2,6)`\n",
    "1. While `num_bounces` > 0:\n",
    "    1. Move the turtle's x coordinate `xpixels` and the turtle's y coordinate `ypixels`.\n",
    "    1. If the turtle moves outside of the bounding box:\n",
    "        1. Restrict the turtle's movement. For example, if the turtle moved outside of the right-most box wall, the turtle can no longer move in the positive x direction.\n",
    "        1. Reset `xpixels` and `ypixels` to new random values in [2, 6). Moving the turtle's x and y position forward at independent, random distances forces the turtle to move linearly in the box, but bounce at a sporadic angle off of the bounding box wall.\n",
    "        1. Subtract 1 from the `num_bounces` counter\n",
    "       \n",
    "Here is an example. Yours will look different!\n",
    "![](figures\\turtle_bounding_box.png)\n",
    "\n",
    "Challenge: Try only using `left()` and/or `right()` turtle rotation functions to alter the turtle's behavior."
   ]
  },
  {
   "cell_type": "markdown",
   "metadata": {},
   "source": [
    "## Task 6\n",
    "Adapted from a Java assignment: [http://penguin.ewu.edu/cscd210/Spring_10/assignments/asgn2.html](http://penguin.ewu.edu/cscd210/Spring_10/assignments/asgn2.html)\n",
    "\n",
    "Write a C program that produces the following output. Use a variable called `height` to make it possible to change the number of stairs in the figure.\n",
    "\n",
    "```\n",
    "                      o  *******\n",
    "                     /|\\ *     *\n",
    "                     / \\ *     *\n",
    "                 o  ******     *\n",
    "                /|\\ *          *\n",
    "                / \\ *          *\n",
    "            o  ******          *\n",
    "           /|\\ *               *\n",
    "           / \\ *               *\n",
    "       o  ******               *\n",
    "      /|\\ *                    *\n",
    "      / \\ *                    *\n",
    "  o  ******                    *\n",
    " /|\\ *                         *\n",
    " / \\ *                         *\n",
    "********************************\n",
    "```\n",
    "\n",
    "Details\n",
    "* You will almost certainly need nested for loops; however, this may be indirect as you could call a function that contains a for loop from inside a for loop in another function.\n",
    "* Employ functions for specific tasks as you deem necessary to promote code reuse\n",
    "    * Perhaps `print_head()`, `print_torso()`, `print_legs()` functions, among others\n",
    "\n"
   ]
  },
  {
   "cell_type": "markdown",
   "metadata": {},
   "source": [
    "## Task 7\n",
    "Adapted from a Java assignment: [http://penguin.ewu.edu/cscd210/Spring_10/assignments/asgn3.html](http://penguin.ewu.edu/cscd210/Spring_10/assignments/asgn3.html)\n",
    "\n",
    "Pi can be approximated by the following series:\n",
    "\n",
    "```\n",
    "4 - 4/3 + 4/5 - 4/7 + 4/9 - ...\n",
    "```\n",
    "\n",
    "As you add more terms of the series together, you get the value of Pi with more precision.  The drawback to this series is that it very slowly approximates Pi.  However, since we have a computer, we can overcome this to some degree because of the speed at which computers perform arithmetic.  \n",
    "\n",
    "Your task is to get an integer greater than 9 from the user (you must ensure the integer they enter is greater than 9 -- as long as the user enters an invalid number, re-prompt for input) that represents to which term to approximate Pi.  Once a valid integer is obtained, calculate the approximate value of Pi to that term.  Print the values of the 10 terms leading up to and including the last term specified, formatted to 15 digits to the right of the decimal point, preceded by the term number (see example run below).\n",
    "\n",
    "After results have been displayed, the user should be asked if s/he wants to perform another approximation of Pi.  If the answer is yes, get another term and perform the calculation as specified above.  The user should be asked if s/he wants to go again until the answer is no. \n",
    "\n",
    "Example Run:\n",
    "\n",
    "```\n",
    "Welcome to the Pi approximation program.\n",
    "This program will approximate Pi based on the following series:\n",
    "4 - 4/3 + 4/5 - 4/7 + 4/9 - ...\n",
    "Enter the term number to which you would like to approximate Pi\n",
    "(note that 4 is term 1, 4/3 is term 2): 9\n",
    "Invalid input!  Please enter a term greater than 9: -999\n",
    "Invalid input!  Please enter a term greater than 9: 20\n",
    "The values of Pi from term 11 to term 20 are\n",
    "--------------------------------------------\n",
    "Term 11: 3.232315809405594\n",
    "Term 12: 3.058402765927333\n",
    "Term 13: 3.218402765927333\n",
    "Term 14: 3.070254617779185\n",
    "Term 15: 3.208185652261944\n",
    "Term 16: 3.079153394197428\n",
    "Term 17: 3.200365515409549\n",
    "Term 18: 3.086079801123835\n",
    "Term 19: 3.194187909231942\n",
    "Term 20: 3.091623806667840\n",
    "Would you like to try again (yes/no)? yo!\n",
    "Invalid input, please enter yes or no: yes\n",
    "Enter the term number to which you would like to approximate Pi\n",
    "(note that 4 is term 1, 4/3 is term 2): 10\n",
    "The values of Pi from term 1 to term 10 are\n",
    "--------------------------------------------\n",
    "Term 1: 4.000000000000000\n",
    "Term 2: 2.666666666666667\n",
    "Term 3: 3.466666666666667\n",
    "Term 4: 2.895238095238096\n",
    "Term 5: 3.339682539682540\n",
    "Term 6: 2.976046176046176\n",
    "Term 7: 3.283738483738484\n",
    "Term 8: 3.017071817071818\n",
    "Term 9: 3.252365934718877\n",
    "Term 10: 3.041839618929403\n",
    "Would you like to try again (yes/no)? no\n",
    "Good Bye!\n",
    "```"
   ]
  },
  {
   "cell_type": "markdown",
   "metadata": {},
   "source": [
    "## Task 8\n",
    "Write a program that prompts the user for an integer and displays the number of even, odd, and zero digits in the number. Use functions where appropriate!"
   ]
  },
  {
   "cell_type": "markdown",
   "metadata": {},
   "source": [
    "## Task 9 \n",
    "The game of Nims/Stones http://ocw.mit.edu/courses/electrical-engineering-and-computer-science/6-189-a-gentle-introduction-to-programming-using-python-january-iap-2011/assignments/MIT6_189IAP11_hw2.pdf "
   ]
  },
  {
   "cell_type": "markdown",
   "metadata": {},
   "source": [
    "## Task 10\n",
    "Add new functionality to PA3 that let's users try as many times as they need to on a question until they get it right. Also, at the end of the quiz, ask the user if they would like to play again."
   ]
  }
 ],
 "metadata": {
  "kernelspec": {
   "display_name": "Python 3",
   "language": "python",
   "name": "python3"
  },
  "language_info": {
   "codemirror_mode": {
    "name": "ipython",
    "version": 3
   },
   "file_extension": ".py",
   "mimetype": "text/x-python",
   "name": "python",
   "nbconvert_exporter": "python",
   "pygments_lexer": "ipython3",
   "version": "3.5.1"
  }
 },
 "nbformat": 4,
 "nbformat_minor": 0
}
