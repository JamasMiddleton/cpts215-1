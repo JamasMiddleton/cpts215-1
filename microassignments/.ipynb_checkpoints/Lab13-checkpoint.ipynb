{
 "cells": [
  {
   "cell_type": "markdown",
   "metadata": {},
   "source": [
    "# [CptS 111 Introduction to Algorithmic Problem Solving](http://piazza.com/wsu/fall2016/cpts111/home)\n",
    "[Washington State University](https://wsu.edu)\n",
    "\n",
    "[Gina Sprint](http://eecs.wsu.edu/~gsprint/)\n",
    "## Lab13 Objects (10 pts)\n",
    "\n",
    "### Learner Objectives\n",
    "At the conclusion of this lab, participants should be able to:\n",
    "* placeholder\n",
    "\n",
    "### Prerequisites\n",
    "Before starting this lab, participants should be able to:\n",
    "* placeholder"
   ]
  },
  {
   "cell_type": "markdown",
   "metadata": {
    "collapsed": true
   },
   "source": [
    "## Task 1\n",
    "1. Define a type named `Pizza` that would be appropriate for storing basic information about pizzas. Include attributes named `name` (a string), `gluten_free` (a Boolean), `sauce` (representing red sauce \"R\" or white sauce \"W\"), and topping (a string).\n",
    "\n",
    "1. Write a function called `read_pizza()` that returns a `Pizza` object with values entered in by the user. Be sure to prompt the user appropriately.\n",
    "\n",
    "1. Write a program to test your `read_pizza()` function."
   ]
  },
  {
   "cell_type": "markdown",
   "metadata": {},
   "source": [
    "## Task 2\n",
    "1. Define a class named `Vehicle` that would be appropriate for storing basic information about vehicles. Include attributes named `make` (a string), `model` (a string), and `body_type` (a string).\n",
    "\n",
    "1. Write an equals method `__eq__()` to compare 2 `Vehicle`s for equality. The method shoud return 1 if they are the same vehicle and 0 if they are different vehicles.\n",
    "\n",
    "1. Write a program that initializes 2 `Vehicle` objects and compares them for equality."
   ]
  },
  {
   "cell_type": "markdown",
   "metadata": {},
   "source": [
    "## Task 3\n",
    "1. Define a class named `Bread` that would be appropriate for storing basic information about bread. Include attributes named `name` (a string), `whole_wheat` (a Boolean), and `price` (a floating point number).\n",
    "\n",
    "1. Declare a list of 10 `Bread` objects called `basket`.\n",
    "\n",
    "1. Write a function called `bread_basket_contents()` that accepts the list of `Bread` objects. The function should informatively display the contents of the bread in the basket. The function should also output the number of `whole_wheat` loaves in the basket and the total cost of the breads."
   ]
  },
  {
   "cell_type": "markdown",
   "metadata": {},
   "source": [
    "## Task 4\n",
    "1. Define a class named `LatLong` that would be appropriate for storing latitude or longitude values. Include attributes named `degrees` (an integer), `minutes` (an integer), `seconds` (a floating point value), and direction (one of the characters \"N\", \"S\", \"E\", or \"W\"). Write a `__str__()` method for printing out this information in the correct format. For example: `46 degrees 39'49.4\"N`.\n",
    "\n",
    "1. Define a class named `Location` to represent a geographic location with a string called `place` (i.e. EME), the `latitude`, and the `longitude`.  Write a `__str__()` method for printing out this information (be sure to make use of the `LatLong` `__str__()` method you already wrote).\n",
    "\n",
    "1. Write a program that initializes a `Location` object representing our EME building and displays EME's location information."
   ]
  },
  {
   "cell_type": "markdown",
   "metadata": {},
   "source": [
    "## Task 5\n",
    "1. Define a class named `Employee` that would be appropriate for storing basic information about employees at a company. Include attributes named `ID` (an integer), `name` (a string), and `salary` (a floating point value).\n",
    "\n",
    "1. Write an `Employee` method called `raise_salary()` that accepts an argument representing the percent of the employee’s salary to raise (you will need to change the salary attribute to the increased value).\n",
    "\n",
    "1. Write a program that initializes an `Employee` object. Prompt the user to enter a percentage to increase the employee's salary."
   ]
  },
  {
   "cell_type": "markdown",
   "metadata": {},
   "source": [
    "## Task 6\n",
    "1. Define a class named `Fish` that would be appropriate for storing basic information about fish. Include attributes named `name` (a string), `salt_water` (a Boolean), and `length` (a floating point value representing the length of the fish in centimeters). Write a `__str__()` method for printing out this information.\n",
    "\n",
    "1. Declare a list of 10 `Fish` objects called `fishbowl`.\n",
    "\n",
    "1. Write a function called `fishbowl_contents()` that accepts the list of `Fish` objets. The function should informatively display the contents of the fish in the fishbowl (be sure to make use of the `Fish` `__str__()` method you already wrote). The function should also output the percentage of salt water fish in the bowl (hopefully this is 100% or 0% :P), and the average length of the fish."
   ]
  },
  {
   "cell_type": "markdown",
   "metadata": {},
   "source": [
    "## Task 7\n"
   ]
  },
  {
   "cell_type": "code",
   "execution_count": null,
   "metadata": {
    "collapsed": true
   },
   "outputs": [],
   "source": []
  }
 ],
 "metadata": {
  "kernelspec": {
   "display_name": "Python 3",
   "language": "python",
   "name": "python3"
  },
  "language_info": {
   "codemirror_mode": {
    "name": "ipython",
    "version": 3
   },
   "file_extension": ".py",
   "mimetype": "text/x-python",
   "name": "python",
   "nbconvert_exporter": "python",
   "pygments_lexer": "ipython3",
   "version": "3.5.1"
  }
 },
 "nbformat": 4,
 "nbformat_minor": 0
}
