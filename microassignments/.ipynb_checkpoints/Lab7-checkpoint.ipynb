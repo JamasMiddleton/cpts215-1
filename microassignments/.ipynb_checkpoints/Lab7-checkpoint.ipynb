{
 "cells": [
  {
   "cell_type": "markdown",
   "metadata": {},
   "source": [
    "# [CptS 111 Introduction to Algorithmic Problem Solving](http://piazza.com/wsu/fall2016/cpts111/home)\n",
    "[Washington State University](https://wsu.edu)\n",
    "\n",
    "[Gina Sprint](http://eecs.wsu.edu/~gsprint/)\n",
    "## Lab7 Loops (10 pts)\n",
    "\n",
    "### Learner Objectives\n",
    "At the conclusion of this lab, participants should be able to:\n",
    "* placeholder\n",
    "\n",
    "### Prerequisites\n",
    "Before starting this lab, participants should be able to:\n",
    "* placeholder"
   ]
  },
  {
   "cell_type": "markdown",
   "metadata": {
    "collapsed": true
   },
   "source": [
    "## Task 1\n",
    "For this task, prompt the user for a series of numbers. For the series of numbers compute the following:\n",
    "1. average\n",
    "1. largest value\n",
    "1. smallest value\n",
    "\n",
    "Continue to prompt the user to enter numbers until the user enters a negative number (do not count this number in the average).  \n",
    "\n",
    "Here is an example (bold underline indicates user input):\n",
    "\n",
    "```\n",
    "Enter number 1: 3\n",
    "Enter number 2: 7\n",
    "Enter number 3: 4\n",
    "Enter number 4: 1\n",
    "Enter number 5: -1\n",
    "\n",
    "The average of the above 4 numbers is: 3.75\n",
    "The largest number entered is: 7\n",
    "The smalles number entered is 1\n",
    "```"
   ]
  },
  {
   "cell_type": "markdown",
   "metadata": {},
   "source": [
    "## Task 2\n",
    "The greatest common divisor (gcd) of two integers is the product of the integers' common factors. Write a program that inputs two numbers and implements the following approach to finding their gcd. We will use the numbers -252 and 735. Working with the numbers' absolute values, we find the remainder of one divided by the other.\n",
    " \n",
    "252 / 735 = 0 R252\n",
    " \n",
    "Now we calculate the remainder of the old divisor divided by the remainder found.\n",
    "735 / 252 = 2 R231\n",
    " \n",
    "We repeat this process until the remainder is zero.\n",
    "252 / 231 = 1 R21\n",
    "231 / 21 = 11 R0\n",
    " \n",
    "The last divisor (21) is the gcd."
   ]
  },
  {
   "cell_type": "markdown",
   "metadata": {},
   "source": [
    "## Task 3\n",
    "Write a program that determines the factorial of n, represented n!, where n is entered by the user. Recall 0! is equal to 1 and 1! is also equal to 1. The factorial of a number such as n! is equal to n * (n – 1) * (n – 2) *… * 1.\n",
    "\n",
    "Use functions where appropriate!\n"
   ]
  },
  {
   "cell_type": "markdown",
   "metadata": {},
   "source": [
    "## Task 4\n",
    "Write a program that reads in integer values from a user and determines the following:\n",
    "1. If the sum of the integers is prime\n",
    "1. If the sum of the individual digits, in the sum of the integers, is prime"
   ]
  },
  {
   "cell_type": "markdown",
   "metadata": {},
   "source": [
    "## Task 5\n",
    "Write a program that determines the Fibonacci number for the nth term.\n",
    "0, 1, 1, 2, 3, 5, 8, 13, 21, 34, …\n",
    "\n",
    "The first Fibonacci number is 0 and the second Fibonacci number is 1. The next number in the sequence is always determined by the sum of the previous two terms or numbers in the sequence. Fib (n) = Fib (n-1) + Fib (n-2). The n value should be entered by the user. Use functions where appropriate!\n"
   ]
  },
  {
   "cell_type": "markdown",
   "metadata": {},
   "source": [
    "## Task 6\n",
    "Write a program that asks the user to enter two dates, determines which date is before the other date, and finally determines the number of days that separate the two dates.  \n",
    "\n",
    "Note: You may need to write helper functions"
   ]
  },
  {
   "cell_type": "markdown",
   "metadata": {},
   "source": [
    "## Task 7\n",
    "\n"
   ]
  },
  {
   "cell_type": "code",
   "execution_count": null,
   "metadata": {
    "collapsed": true
   },
   "outputs": [],
   "source": []
  }
 ],
 "metadata": {
  "kernelspec": {
   "display_name": "Python 3",
   "language": "python",
   "name": "python3"
  },
  "language_info": {
   "codemirror_mode": {
    "name": "ipython",
    "version": 3
   },
   "file_extension": ".py",
   "mimetype": "text/x-python",
   "name": "python",
   "nbconvert_exporter": "python",
   "pygments_lexer": "ipython3",
   "version": "3.5.1"
  }
 },
 "nbformat": 4,
 "nbformat_minor": 0
}
