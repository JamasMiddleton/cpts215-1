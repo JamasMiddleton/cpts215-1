{
 "cells": [
  {
   "cell_type": "markdown",
   "metadata": {},
   "source": [
    "# [CptS 111 Introduction to Algorithmic Problem Solving](http://piazza.com/wsu/fall2016/cpts111/home)\n",
    "[Washington State University](https://wsu.edu)\n",
    "\n",
    "[Gina Sprint](http://eecs.wsu.edu/~gsprint/)\n",
    "## Lab11 Review (10 pts)\n",
    "\n",
    "### Learner Objectives\n",
    "At the conclusion of this lab, participants should be able to:\n",
    "* placeholder\n",
    "\n",
    "### Prerequisites\n",
    "Before starting this lab, participants should be able to:\n",
    "* placeholder"
   ]
  },
  {
   "cell_type": "markdown",
   "metadata": {},
   "source": [
    "## Task 1\n",
    "Write a program with a function called `most_common_letter(text)` that finds and returns the most commonly occurring letter (ignoring case) in the supplied string.  For example, supplying the text \"Summer\" would return \"m\".  \n",
    "\n",
    "You are only allowed to use the following built-in Python helper functions: len(), range().\n",
    "\n",
    "Hint: Think dictionaries!"
   ]
  },
  {
   "cell_type": "markdown",
   "metadata": {
    "collapsed": true
   },
   "source": [
    "## Task 2\n",
    "This project is adapted from chapter 5 (problem 10) Hanly & Koffman. The problem states the following:\n",
    "\n",
    "With tuples, we can return multiple values from a function by simply packing them in a tuple. This task demonstrates returning multiple values from a single function by returning a two-item tuple.\n",
    "\n",
    "Write a program to model a simple calculator. The user enters an operand and a value they want to calculate based on the accumulated result. Assume the left operand is the accumulator value (initially zero). \n",
    "\n",
    "For example:\n",
    "\n",
    "```\n",
    "+ 5.0\n",
    "Result so far: 5.0\n",
    "^ 2\n",
    "Result so far: 25.0\n",
    "/ 2.0\n",
    "Result so far: 12.5\n",
    "q 0\n",
    "Final result: 12.5\n",
    "```\n",
    "\n",
    "You need a function `scan_data()` that returns the operator and right operand scanned in from the user as a `tuple`. You need a function `do_next_op()` that performs the required operation. `do_next_op()` has three input parameters, the operator, the operand, and the accumulator. `do_next_op()` returns the updated accumulator value.\n",
    "\n",
    "The valid operators are:\n",
    "\n",
    "```\n",
    "+ \tadd\n",
    "-   subtract\n",
    "*\tmultiply\n",
    "/\tdivide\n",
    "^\tpower (raise left operand to power of right operand, see example)\n",
    "q \tquit\n",
    "```\n",
    "\n",
    "Once you get the above working, modify the code to read in the left operand, the operator, and the right operand and produce results line by line (accumulate the sum of the results). Also, keep track of the number operations performed and report that value to the user when they choose to quit."
   ]
  },
  {
   "cell_type": "markdown",
   "metadata": {},
   "source": [
    "## Task 3\n",
    "Write a program to generate files containing words represented by [ASCII art](https://en.wikipedia.org/wiki/ASCII_art). I have used this [website](http://www.askapache.com/online-tools/figlet-ascii/) to generate 26 files each containing ASCII art of a capital letter of the alphabet. Download the zip of these 26 files [here](). Unzip this directory and take a look at A.txt, pretty cool huh? Check out the different fonts available from the website I used, they are awesome!\n",
    "\n",
    "The program should perform the following steps:\n",
    "1. Prompt the user for a word and store the string in a variable named `word`.\n",
    "1. Convert `word` to all uppercase.\n",
    "1. Generate a dictionary of letter-ascii art string pairs named `letter_art`. For example, the key \"A\" maps to the string represented by the entire contents of A.txt (think `<file object>.read()`). Hint: The `os` module has a function called `listdir(<string path to directory>)` that returns a list of the files in a particular directory: `files = listdir(r\"C:\\Users\\gsprint\\Documents\\website\\cpts111\\labs\\files\\nancyj\")`. \n",
    "1. For each letter in `word`, write the corresponding ASCII art letter (from `letter_art` dictionary) to an output file `word_art.txt`. Place a blank line between letters.\n",
    "\n",
    "Here is some starter code to read in the ASCII art from the files:\n",
    "\n",
    "```\n",
    "import os\n",
    "\n",
    "# path to the folder where you unzipped the ASCII art files\n",
    "directory = r\"C:\\Users\\gsprint\\Documents\\website\\cpts111\\labs\\files\\doh\"\n",
    "\n",
    "# os.listdir(directory) returns a list of files in directory\n",
    "file_list = os.listdir(directory)\n",
    "\n",
    "for fil in file_list:\n",
    "    # example: letter[0] is \"A\" and letter[1] is \"txt\"\n",
    "    letter_extension_list = fil.split(\".\")\n",
    "    letter = letter_extension_list[0]\n",
    "    \n",
    "    # fil is a relative path. need absolute path of fil to open it since fil isn't in the current working directory\n",
    "    fil = \"\\\\\".join([directory, fil])\n",
    "    # open fil...\n",
    "```\n",
    "\n",
    "Example output file if the user enters \"wsu\":\n",
    "\n",
    "```\n",
    "WWWWWWWW                           WWWWWWWW\n",
    "W::::::W                           W::::::W\n",
    "W::::::W                           W::::::W\n",
    "W::::::W                           W::::::W\n",
    " W:::::W           WWWWW           W:::::W \n",
    "  W:::::W         W:::::W         W:::::W  \n",
    "   W:::::W       W:::::::W       W:::::W   \n",
    "    W:::::W     W:::::::::W     W:::::W    \n",
    "     W:::::W   W:::::W:::::W   W:::::W     \n",
    "      W:::::W W:::::W W:::::W W:::::W      \n",
    "       W:::::W:::::W   W:::::W:::::W       \n",
    "        W:::::::::W     W:::::::::W        \n",
    "         W:::::::W       W:::::::W         \n",
    "          W:::::W         W:::::W          \n",
    "           W:::W           W:::W           \n",
    "            WWW             WWW            \n",
    "\n",
    "   SSSSSSSSSSSSSSS \n",
    " SS:::::::::::::::S\n",
    "S:::::SSSSSS::::::S\n",
    "S:::::S     SSSSSSS\n",
    "S:::::S            \n",
    "S:::::S            \n",
    " S::::SSSS         \n",
    "  SS::::::SSSSS    \n",
    "    SSS::::::::SS  \n",
    "       SSSSSS::::S \n",
    "            S:::::S\n",
    "            S:::::S\n",
    "SSSSSSS     S:::::S\n",
    "S::::::SSSSSS:::::S\n",
    "S:::::::::::::::SS \n",
    " SSSSSSSSSSSSSSS   \n",
    "\n",
    "UUUUUUUU     UUUUUUUU\n",
    "U::::::U     U::::::U\n",
    "U::::::U     U::::::U\n",
    "UU:::::U     U:::::UU\n",
    " U:::::U     U:::::U \n",
    " U:::::D     D:::::U \n",
    " U:::::D     D:::::U \n",
    " U:::::D     D:::::U \n",
    " U:::::D     D:::::U \n",
    " U:::::D     D:::::U \n",
    " U:::::D     D:::::U \n",
    " U::::::U   U::::::U \n",
    " U:::::::UUU:::::::U \n",
    "  UU:::::::::::::UU  \n",
    "    UU:::::::::UU    \n",
    "      UUUUUUUUU      \n",
    "```"
   ]
  },
  {
   "cell_type": "markdown",
   "metadata": {},
   "source": [
    "## Task 4\n",
    "Recall a substring is a fragment of a longer string. For example \"gram\" is a substring of \"program\". For this task, write a program to identify all of the words in [words.txt]() that the following 3 strings are substrings of:\n",
    "* \"are\"\n",
    "* \"ing\"\n",
    "* \"the\"\n",
    "\n",
    "Here is an outline of the algorithm to do this:\n",
    "1. Open [words.txt]() for reading\n",
    "1. Initialize a dictionary: `substring_dict = {\"are\": [], \"ing\": [], \"the\": []}`\n",
    "1. For each `word` in [words.txt]():\n",
    "    1. For `substring` in `substring_dict.keys()`:\n",
    "        1. If `is_substring(word, substring)` returns True (this is a function you wrote for a previous lab task :))\n",
    "           1. Append `word` to `substring_dict[substring]`\n",
    "\n",
    "Examples:\n",
    "```\n",
    "is_substring(\"program\", \"gram\") returns true\n",
    "is_substring(\"123456789\", \"xy\") returns false\n",
    "is_substring(\"abc\", \"\") returns true\n",
    "```\n",
    "Do not use the reserved keyword `in` in your solution. Also, do not use any string methods!\n",
    "\n",
    "Note: The empty string is a substring of any other string. "
   ]
  },
  {
   "cell_type": "markdown",
   "metadata": {
    "collapsed": true
   },
   "source": [
    "## Task 5\n",
    "Implement Dilbert's [carpet fishing game](http://dilbert.com/strip/2007-09-30)."
   ]
  },
  {
   "cell_type": "markdown",
   "metadata": {
    "collapsed": true
   },
   "source": [
    "## Task 6\n",
    "Rewrite the provided started code used in PA5 to convert the Spotify query results to a [JSON](http://docs.python-guide.org/en/latest/scenarios/json/) dictionary using the [`json`](https://docs.python.org/3.5/library/json.html) module. Also extrack the *track id* string and write it to a file. Imagine trying to locate the track id without using the `json` module! How would you do it?"
   ]
  },
  {
   "cell_type": "markdown",
   "metadata": {
    "collapsed": true
   },
   "source": [
    "## Task 7\n",
    "Add new functionality to PA5 to provide a menu for the user to select song previews to play. Exit the program when the user enters \"quit\"."
   ]
  }
 ],
 "metadata": {
  "kernelspec": {
   "display_name": "Python 3",
   "language": "python",
   "name": "python3"
  },
  "language_info": {
   "codemirror_mode": {
    "name": "ipython",
    "version": 3
   },
   "file_extension": ".py",
   "mimetype": "text/x-python",
   "name": "python",
   "nbconvert_exporter": "python",
   "pygments_lexer": "ipython3",
   "version": "3.5.1"
  }
 },
 "nbformat": 4,
 "nbformat_minor": 0
}
