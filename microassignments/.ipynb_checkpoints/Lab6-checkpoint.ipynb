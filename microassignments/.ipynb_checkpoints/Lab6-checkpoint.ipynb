{
 "cells": [
  {
   "cell_type": "markdown",
   "metadata": {},
   "source": [
    "# [CptS 111 Introduction to Algorithmic Problem Solving](http://piazza.com/wsu/fall2016/cpts111/home)\n",
    "[Washington State University](https://wsu.edu)\n",
    "\n",
    "[Gina Sprint](http://eecs.wsu.edu/~gsprint/)\n",
    "## Lab6 Review (10 pts)\n",
    "\n",
    "### Learner Objectives\n",
    "At the conclusion of this lab, participants should be able to:\n",
    "* `if-elif-else` statements\n",
    "* Nested `if` statements\n",
    "\n",
    "### Prerequisites\n",
    "Before starting this lab, participants should be able to:\n",
    "* Understand Boolean conditions\n",
    "* Apply `if-else` statements"
   ]
  },
  {
   "cell_type": "markdown",
   "metadata": {},
   "source": [
    "## Task 1\n",
    "This project is adapted from chapter 4 (problem 6) Hanly & Koffman. The problem states the following:\n",
    "\n",
    "Write a program that takes the x – y coordinates of a point in the Cartesian plane and prints a message telling either an axis on which the point lies or the quadrant in which it is found (note: don’t forget to handle the case where the user enters the origin as input).\n",
    "![](https://raw.githubusercontent.com/gsprint23/cpts111/master/labs/figures/quadrant.png)\n",
    " \n",
    "Sample lines of output:\n",
    "\n",
    "```\n",
    "(-1.0, -2.5) is in quadrant III\n",
    "(0.0, 4.8) is on the y-axis\n",
    "```"
   ]
  },
  {
   "cell_type": "markdown",
   "metadata": {
    "collapsed": true
   },
   "source": [
    "## Task 2\n",
    "This project is adapted from chapter 4 (problem 8) Hanly & Koffman. The problem states the following:\n",
    "\n",
    "Write a program that interacts with the user like this:\n",
    "\n",
    "```\n",
    "(1) Carbon monoxide\n",
    "(2) Hydrocarbons\n",
    "(3) Nitrogen oxides\n",
    "(4) Nonmethane hydrocarbons\n",
    "Enter pollutant number>> 2\n",
    "Enter number of grams emitted per mile>> 0.35\n",
    "Enter odometer reading>> 40112\n",
    "Emissions exceed permitted level of 0.31 grams/mile.\n",
    "```\n",
    "\n",
    "Use the table of emissions limits below to determine the appropriate message.\n",
    "\n",
    "||First 50,000 Miles|Second 50,000 Miles\n",
    "|-|-|-|\n",
    "|Carbon monoxide|3.4 grams/mile|4.2 grams/mile|\n",
    "|Hydrocarbons|0.31 grams/mile|0.39 grams/mile|\n",
    "|Nitrogen oxides|0.4 grams/mile|0.5 grams/mile|\n",
    "|Nonmethane hydrocarbons|0.25 grams/mile|0.31 grams/mile|\n"
   ]
  },
  {
   "cell_type": "markdown",
   "metadata": {},
   "source": [
    "## Task 3\n",
    "This project is adapted from chapter 4 (problem 9) Hanly & Koffman. The problem states the following:\n",
    "\n",
    "Chatflow Wireless offers customers 600 weekday minutes for a flat rate of 39.99. Night (8 P.M. to 7 A.M. ) and weekend minutes are free, but additional weekday minutes cost 0.40 each. There are taxes of 5.25% on all charges.\n",
    "\n",
    "Write a program that prompts the user to enter the number of weekday minutes, night minutes, and weekend minutes used, and calculates the monthly bill and average cost of a minute before taxes. The program should display with labels all the input data, the pretax bill and average minute cost, the taxes, and the total bill."
   ]
  },
  {
   "cell_type": "markdown",
   "metadata": {},
   "source": [
    "## Task 4\n",
    "For this task, we will use Turtle graphics. Write a program the let's the user pick the pen color, pen size, and shape to draw. We will allow the following colors:\n",
    "1. blue\n",
    "1. green\n",
    "1. red\n",
    "\n",
    "Pensizes are in the range [1, 10] inclusive. \n",
    "\n",
    "Optional shapes include those from our previous labs:\n",
    "* square\n",
    "* star\n",
    "* snowflake\n",
    "\n",
    "If the pencolor, pensize, or shape is not valid, we will tell the user and not draw a shape. Otherwise, we will do as the user wishes!"
   ]
  },
  {
   "cell_type": "markdown",
   "metadata": {},
   "source": [
    "## Task 5\n",
    "This project is adapted from chapter 4 (problem 7) Hanly & Koffman. The problem states the following:\n",
    "\n",
    "Write a program that determines the day number (1 to 366) in a year for a date that is provided as input data. As an example, January 1, 1994, is day 1. December 31, 1993, is day 365. December 31, 1996, is day 366, since 1996 is a leap year. A year is a leap year if it is divisible by four, except that any year divisible by 100 is a leap year only if it is divisible by 400. Your program should accept the month, day, and year as integers. Include a function `leap()` that returns 1 if called with a leap year, 0 otherwise."
   ]
  },
  {
   "cell_type": "markdown",
   "metadata": {},
   "source": [
    "## Task 6\n",
    "Add new functionality to PA1 to make the chatbot more interesting:\n",
    "* Call the user a \"Pullmanite\" if they are from Pullman. Otherwise use code from PA2 to tell the user how far away their hometown is from Pullman, WA. Tell them if their hometown is \"close\" or \"far\" from Pullman.\n",
    "* Tell the user if their favorite number is within 10 of your favorite number (above or below).\n",
    "* If the user's dream car is 6 figures, tell them.\n",
    "* Other ideas? Enjoy!"
   ]
  },
  {
   "cell_type": "markdown",
   "metadata": {},
   "source": [
    "## Task 7\n",
    "Add new functionality to PA2 to identify:\n",
    "* The closest pair of cities\n",
    "* The furthest pair of cities\n",
    "* The closest city to Pullman, WA\n",
    "* The furthrest city from Pullman, WA"
   ]
  }
 ],
 "metadata": {
  "kernelspec": {
   "display_name": "Python 3",
   "language": "python",
   "name": "python3"
  },
  "language_info": {
   "codemirror_mode": {
    "name": "ipython",
    "version": 3
   },
   "file_extension": ".py",
   "mimetype": "text/x-python",
   "name": "python",
   "nbconvert_exporter": "python",
   "pygments_lexer": "ipython3",
   "version": "3.5.1"
  }
 },
 "nbformat": 4,
 "nbformat_minor": 0
}
