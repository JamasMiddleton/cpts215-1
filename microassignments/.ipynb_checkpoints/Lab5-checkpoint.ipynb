{
 "cells": [
  {
   "cell_type": "markdown",
   "metadata": {},
   "source": [
    "# [CptS 111 Introduction to Algorithmic Problem Solving](http://piazza.com/wsu/fall2016/cpts111/home)\n",
    "[Washington State University](https://wsu.edu)\n",
    "\n",
    "[Gina Sprint](http://eecs.wsu.edu/~gsprint/)\n",
    "## Lab5 Conditionals (10 pts)\n",
    "\n",
    "### Learner Objectives\n",
    "At the conclusion of this lab, participants should be able to:\n",
    "* Understand Boolean conditions\n",
    "* Apply `if-else` statements\n",
    "\n",
    "### Prerequisites\n",
    "Before starting this lab, participants should be able to:\n",
    "* Call standard Python functions\n",
    "* Define functions\n",
    "* Call programmer-defined functions\n",
    "* Pass arguments into functions\n",
    "* Return values from functions\n",
    "* Use Turtle graphics\n",
    "* Define and call functions that execute Turtle graphics code"
   ]
  },
  {
   "cell_type": "markdown",
   "metadata": {
    "collapsed": true
   },
   "source": [
    "## Task 1 (*)\n",
    "Write a Calorie Calculator program to determine what a person's caloric intake should be for a 24 hour span. The program must make a decision about caloric intake, to maintain current body weight, based on gender, age, weight, and height, and activity level. The Program must first compute the Basal Metabolic Rate (BMR). The BMR formula is the following:\n",
    "\n",
    "Women: BMR = 655 + (4.35 * weight in pounds) + (4.7 * height in inches) - (4.7 * age in years)\n",
    "Men: BMR = 66 + (6.23 * weight in pounds) + (12.7 * height in inches) - (6.8 * age in years)\n",
    " \n",
    "To determine total daily calorie needs, your program must apply the following guidelines:\n",
    "1. Sedentary (little to no exercise): Calories = BMR * 1.2\n",
    "2. Low activity: Calories = BMR * 1.375\n",
    "3. Moderate activity: Calories = BMR * 1.55\n",
    "4. High activity: Calories = BMR * 1.725\n",
    "5. Extra activity: Calories = BMR * 1.9\n",
    " \n",
    "Define functions where appropriate! Also, read age, gender, weight, and height values from the user."
   ]
  },
  {
   "cell_type": "markdown",
   "metadata": {},
   "source": [
    "## Task 2 (*)\n",
    "Write a simple calculator program that can perform addition, subtraction, multiplication, division, integer division, and modulus.  The program flow for your calculator is as follows:\n",
    "1.\tPrompt user for left-hand value\n",
    "1.\tPrompt user for operator (e.g. +,-,*,/,//,%)\n",
    "1.\tPrompt user for right-hand value\n",
    "1.\tOutput result\n",
    "\n",
    "Be sure to define functions where appropriate! Also, are there any special cases we should consider handling? Think about what might happen if the the user enters a 0 for the right-hand value?"
   ]
  },
  {
   "cell_type": "markdown",
   "metadata": {},
   "source": [
    "## Task 3 (*)\n",
    "Write a program to determine a professional baseball player's bonus at the end of a season. The bonus is calculated as follows:\n",
    "1. All-Star Game appearance = $25,000\n",
    "2. Regular season MVP = $75,000\n",
    "3. World Series MVP = $100,000\n",
    "4. Gold Glove award = $50,000\n",
    "5. Silver Slugger award = $35,000\n",
    "6. Home run champ = $25,000\n",
    "7. Batting average champ = $25,000\n",
    " \n",
    "Prompt the user with a question related to each of the above categories. If the response is 'y' for yes, add the bonus to the total, otherwise if the response is 'n' move to the next question. Use functions where appropriate."
   ]
  },
  {
   "cell_type": "markdown",
   "metadata": {},
   "source": [
    "## Task 4 (*)\n",
    "This project is adapted from chapter 4 (problem 1) Hanly & Koffman. The problem states the following:\n",
    "\n",
    "Keith’s Sheet Music needs a program to implement its music teacher’s discount policy. The program is to prompt the user to enter the purchase total and to indicate whether the purchaser is a teacher. The store plans to give each customer a printed receipt, so your program is to create a nicely formatted file called receipt.txt. Music teachers receive a 10% discount on their sheet music purchases unless the purchase total is $100 or higher. In that case, the discount is 12%. The discount calculation occurs before addition of the 5% sales tax. Here are two sample output files—one for a teacher and one for a non-teacher. Note: to display a % sign, place two % signs in the format string: printf(\"%d%%\", SALES_TAX); See below for example output.\n",
    "\n",
    "```\n",
    "Total purchases $122.00\n",
    "Teacher's discount (12%) $ 14.64\n",
    "Discounted total $107.36\n",
    "Sales tax (5%) $  5.37\n",
    "Total $112.73\n",
    "\n",
    "Total purchases $ 24.90\n",
    "Sales tax (5%) $  1.25\n",
    "Total $ 26.15\n",
    "```"
   ]
  },
  {
   "cell_type": "markdown",
   "metadata": {},
   "source": [
    "## Task 5 (2 pts)\n",
    "This project is adapted from chapter 4 (problem 11) Hanly & Koffman. The problem states the following:\n",
    "\n",
    "The table below shows the normal boiling points of several substances. Write a program that prompts the user for the observed boiling point of a substance in °C and identifies the substance if the observed boiling point is within 5% of the expected boiling point. If the data input is more than 5% higher or lower than any of the boiling points in the table, the program should output the message Substance unknown.\n",
    "\n",
    "|Substance|Normal boiling point (°C)|\n",
    "|-|-|\n",
    "|Water|100|\n",
    "|Mercury|357|\n",
    "|Copper|1187|\n",
    "|Silver|2193|\n",
    "|Gold|2660|\n",
    "\n",
    "Your program should define and call a function `within_x_percent()` that takes as parameters a reference value `ref`, a data value `data`, and a percentage value `x` and returns 1 meaning true if data is within x % of ref —that is, (ref – x% * ref) ≤ data ≤ (ref + x % * ref). Otherwise `within_x_percent()` would return zero, meaning false. For example, the call `within_x_percent(357, 323, 10)` would return true, since 10% of 357 is 35.7, and 323 falls between 321.3 and 392.7."
   ]
  },
  {
   "cell_type": "markdown",
   "metadata": {},
   "source": [
    "## Task 6 (2 pts)\n",
    "Write a program which reads five numbers from a file and performs one of the following operations on those numbers:\n",
    "1. Average\n",
    "2. High value\n",
    "3. Low value\n",
    " \n",
    "Your program must display a menu with the above options. Display to the result to the screen."
   ]
  },
  {
   "cell_type": "markdown",
   "metadata": {},
   "source": [
    "## Task 7 (2 pts)\n",
    "Write a program that completes the following requirements:\n",
    "\n",
    "1. Reads in four quarterly dollar salary payments from the user\n",
    "1. Sums the quarterly payments\n",
    "1. Determines the tax bracket\n",
    "    * < $15,000 = low income; \n",
    "    * $15,000 - $200,000 = medium income; \n",
    "    * > $200,000 = high income\n",
    "1. Displays \"l\" for low income, \"m\" for medium income, and \"h\" for high income\n",
    " \n",
    "Use function where appropriate!"
   ]
  }
 ],
 "metadata": {
  "kernelspec": {
   "display_name": "Python 3",
   "language": "python",
   "name": "python3"
  },
  "language_info": {
   "codemirror_mode": {
    "name": "ipython",
    "version": 3
   },
   "file_extension": ".py",
   "mimetype": "text/x-python",
   "name": "python",
   "nbconvert_exporter": "python",
   "pygments_lexer": "ipython3",
   "version": "3.5.1"
  }
 },
 "nbformat": 4,
 "nbformat_minor": 0
}
