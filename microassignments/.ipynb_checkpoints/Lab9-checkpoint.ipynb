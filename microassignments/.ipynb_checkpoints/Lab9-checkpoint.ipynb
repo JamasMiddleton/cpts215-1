{
 "cells": [
  {
   "cell_type": "markdown",
   "metadata": {},
   "source": [
    "# [CptS 111 Introduction to Algorithmic Problem Solving](http://piazza.com/wsu/fall2016/cpts111/home)\n",
    "[Washington State University](https://wsu.edu)\n",
    "\n",
    "[Gina Sprint](http://eecs.wsu.edu/~gsprint/)\n",
    "## Lab9 File I/O (10 pts)\n",
    "\n",
    "### Learner Objectives\n",
    "At the conclusion of this lab, participants should be able to:\n",
    "* Open and close files\n",
    "* Read and write files\n",
    "* Utilize file objects\n",
    "\n",
    "### Prerequisites\n",
    "Before starting this lab, participants should be able to:\n",
    "* placeholder"
   ]
  },
  {
   "cell_type": "markdown",
   "metadata": {},
   "source": [
    "## Task 1\n",
    "In this task we will use Turtle graphics. Write program to read coordinates in from a file and draw the coordinates in the order they are listed in the file. The coordinates are specified by x and y coordinates on their own line. Coordinate pairs are dilimited by blank spaces. Here's an example input file with 4 coordinate pairs (200, 0), (200, 200), (0, 200), (0, 0):\n",
    "\n",
    "```\n",
    "200\n",
    "0\n",
    "\n",
    "200\n",
    "200\n",
    "\n",
    "0\n",
    "200\n",
    "\n",
    "0\n",
    "0\n",
    "```\n",
    "\n",
    "Write your program such that your code handles any number of coordinate pairs in the file, not just 4 like in this example."
   ]
  },
  {
   "cell_type": "markdown",
   "metadata": {
    "collapsed": true
   },
   "source": [
    "## Task 2\n",
    "For the following problems, we will need to download a file: [words.txt](http://thinkpython2.com/code/words.txt). This file contains 113,809 official crossword words, one per line. Using words.txt, write a program with the following functionality:\n",
    "1. `open_input_file()`: opens words.txt for reading and returns the file object associated with words.txt\n",
    "1. `close_file()`: accepts the file object as an argument and closes the file\n",
    "1. `avg_word_length()`: accepts the file object as an argument and returns the average number of characters per word. You may choose to define/call additional functions (think `count_words()` and maybe a `sum_word_lengths()`? It's up to you).\n",
    "1. `write_word_lengths()`: accepts the file object as an argument and for each word in words.txt, write the number of characters in the word to a file (lengths.txt), one line at a time."
   ]
  },
  {
   "cell_type": "markdown",
   "metadata": {},
   "source": [
    "## Task 3\n",
    "In this task, you will use a loop to print N names from the supplied file [first_names.txt](first_names.txt). Here is the basic algorithm:\n",
    "1.\tOpen first_names.txt for reading (file reading template that we use in class)\n",
    "1.\tWhile the user has not entered a number that is between 0 and 50 (the number of names in the file):\n",
    "    1. Prompt the user for a number\n",
    "    1. Let N = this number\n",
    "3.\tUse a WHILE loop and compound logic to output the first N names in the file.\n",
    "\n",
    "Here is an example run of the program:\n",
    "\n",
    "```\n",
    "Enter a value between 0 and 50: -100\n",
    "Enter a value between 0 and 50: -1\n",
    "Enter a value between 0 and 50: 100\n",
    "Enter a value between 0 and 50: 51\n",
    "Enter a value between 0 and 50: 5\n",
    "Name at 0 : James\n",
    "Name at 1 : John\n",
    "Name at 2 : Robert\n",
    "Name at 3 : Michael\n",
    "Name at 4 : William\n",
    "```"
   ]
  },
  {
   "cell_type": "markdown",
   "metadata": {},
   "source": [
    "## Task 4\n",
    "In this task, you will write a series of random numbers to a text file called random_numbers.txt.  The basic algorithm for this process is as follows:\n",
    "1.\tAsk user for the number or random numbers to generate\n",
    "2.\tAsk the user for the minimum possible value that can be generated\n",
    "3.\tAsk the user for the maximum possible value that can be generated\n",
    "4.\tWrite the requested number of random numbers to the text file.\n",
    "\n",
    "Here is an example run of the program:\n",
    "\n",
    "```\n",
    "Enter the amount of numbers to generate: 5\n",
    "Enter the minimum value that a random number can be: -100\n",
    "Enter the maximum value that a random number can be: 100\n",
    "```\n",
    "\n",
    "And the resulting file:\n",
    "\n",
    "```\n",
    "-4\n",
    "19\n",
    "-16\n",
    "-15\n",
    "-22\n",
    "```"
   ]
  },
  {
   "cell_type": "markdown",
   "metadata": {},
   "source": [
    "## Task 5\n",
    "For this task, write a script that reads a series of numbers in from a file (one number per line) and outputs the largest number, smallest number, and average.  For example, given the following file:\n",
    "\n",
    "```\n",
    "1\n",
    "3\n",
    "4\n",
    "2\n",
    "6\n",
    "5\n",
    "```\n",
    "\n",
    "Your program should generate ouptput similar to the following:\n",
    "\n",
    "```\n",
    "Enter a file name: numbers.txt\n",
    "Reading \"numbers.txt\"\n",
    "Found 6 numbers.\n",
    "Largest number: 6\n",
    "Smallest number: 2\n",
    "Average: 3.5\n",
    "```"
   ]
  },
  {
   "cell_type": "markdown",
   "metadata": {},
   "source": [
    "## Task 6\n",
    "This project is adapted from page 371 (problem 11) Hanly & Koffman. The problem states the following:\n",
    "\n",
    "After studying gross annual revenues of Broadway shows over a 20-year period, you model the revenue as a function of time:\n",
    "\n",
    "$$R(t) = 203.265 \\times (1.071)^t$$\n",
    "\n",
    "where R is in millions of dollars and t is the years since 1984. \n",
    "\n",
    "Create the following functions to implement this model:\n",
    "* `revenue()`: calculates R given the input parameter t.\n",
    "* `predict()`: predicts the year in which revenues (in millions) will first equal or exceed the value of the input parameter. For example, `predict(200)` would return 1984.\n",
    " \n",
    "Write a `main()` function that calls `predict()` to determine when revenues will likely exceed $1 trillion (i.e. 1,000 million). \n",
    "\n",
    "Then create an output file that contains a table of estimated revenues for all the year from 1984 through the year when revenues should exceed $1 trillion."
   ]
  },
  {
   "cell_type": "markdown",
   "metadata": {},
   "source": [
    "## Task 7\n",
    "This project is adapted from page 369 (problem 8) Hanly & Koffman. The problem states the following:\n",
    "\n",
    "InternetLite is an ISP that charges customers a flat rate of \\$7.99 for up to 10 hours of connection time. Additional hours or partial hours are charged at \\$1.99 each. \n",
    "\n",
    "Write a function named `charges()` that computes the total charge for a customer based on the number of hours of connection time used in a month. \n",
    "\n",
    "Write another function named `average_hourly_charge()` that calculates the average cost per hour of the time used. \n",
    "\n",
    "Write a third function `round_money()` that takes a real number as an input argument and returns the number rounded to two decimal places. \n",
    "\n",
    "Write a `main()` that takes data from an input file and produces an output file. The input data file format is as follows:\n",
    "        Line 1: current month and year as two integers\n",
    "        Other lines: customer number (a 5-digit number) and number of hours used\n",
    "\n",
    "Example input file usage.txt:\n",
    "\n",
    "```\n",
    "10 2009\n",
    "15362 4.2\n",
    "42768 11.1\n",
    "11111 9.9\n",
    "```\n",
    "\n",
    "Example output file charges.txt:\n",
    "\n",
    "```\n",
    "Charges for 10/2009\n",
    "\n",
    "Customer\tHours used\t\tTotal charge\t\t\tAverage charge per hour\n",
    "15362\t\t4.2               \t7.99               \t1.90\n",
    "42768\t\t11.1              \t11.97              \t1.08\n",
    "11111\t\t9.9               \t7.99             \t  0.81\n",
    "```"
   ]
  },
  {
   "cell_type": "code",
   "execution_count": null,
   "metadata": {
    "collapsed": true
   },
   "outputs": [],
   "source": []
  }
 ],
 "metadata": {
  "kernelspec": {
   "display_name": "Python 3",
   "language": "python",
   "name": "python3"
  },
  "language_info": {
   "codemirror_mode": {
    "name": "ipython",
    "version": 3
   },
   "file_extension": ".py",
   "mimetype": "text/x-python",
   "name": "python",
   "nbconvert_exporter": "python",
   "pygments_lexer": "ipython3",
   "version": "3.5.1"
  }
 },
 "nbformat": 4,
 "nbformat_minor": 0
}
