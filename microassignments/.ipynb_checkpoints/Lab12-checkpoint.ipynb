{
 "cells": [
  {
   "cell_type": "markdown",
   "metadata": {},
   "source": [
    "# [CptS 111 Introduction to Algorithmic Problem Solving](http://piazza.com/wsu/fall2016/cpts111/home)\n",
    "[Washington State University](https://wsu.edu)\n",
    "\n",
    "[Gina Sprint](http://eecs.wsu.edu/~gsprint/)\n",
    "## Lab12 Lists (10 pts)\n",
    "\n",
    "### Learner Objectives\n",
    "At the conclusion of this lab, participants should be able to:\n",
    "* placeholder\n",
    "\n",
    "### Prerequisites\n",
    "Before starting this lab, participants should be able to:\n",
    "* placeholder"
   ]
  },
  {
   "cell_type": "markdown",
   "metadata": {
    "collapsed": true
   },
   "source": [
    "## Task 1\n",
    "Write a program to calculate\n",
    "* Average\n",
    "* Standard deviation\n",
    "* Smallest number\n",
    "* Largest number\n",
    "* Median number\n",
    "for a list of the numbers read in from a file. Store the numbers in a list. \n",
    "\n",
    "Example input file:\n",
    "\n",
    "```\n",
    "1\n",
    "2\n",
    "3\n",
    "4\n",
    "-1\n",
    "10\n",
    "11\n",
    "12\n",
    "```\n",
    "\n",
    "Example output:\n",
    "\n",
    "```\n",
    "Average: 5.25\n",
    "Standard deviation: 5.01\n",
    "Smallest number in the list: -1\n",
    "Largest number in the list: 12\n",
    "Median number: 4\n",
    "```"
   ]
  },
  {
   "cell_type": "markdown",
   "metadata": {},
   "source": [
    "## Task 2\n",
    "Write a program to sort a list without using Python's default `sort()` function!  Here's how to do it:\n",
    "1.Start with some predefined list (named: original_list).\n",
    "1. Create a new, empty list to store the sorted result (named: sorted_list).  \n",
    "1. While the original list is not empty:\n",
    "    1. Find the smallest value in original_list\n",
    "    1. Use the list method `append()` to append a value to sorted_list.  E.g. `sorted_list.append(smallest_value)`\n",
    "    1. Delete the value from the original list using the value's index.  Use the `del` keyword to remove an item from a list. E.g. `del original_list[smallest_index]`\n",
    "1. Output the sorted list. \n",
    "\n",
    "For example:\n",
    "list: [1, 2, 3, 4, -1, 10, 11, 12]\n",
    "sorted: [-1, 1, 2, 3, 4, 10, 11, 12]\n"
   ]
  },
  {
   "cell_type": "markdown",
   "metadata": {},
   "source": [
    "## Task 3\n",
    "Write a program that contains 3 functions that operate on lists of size 6 elements:\n",
    "* `print_list()`: prints the contents of the array in the following format:\n",
    "\n",
    "Example output (if `mylist = [3,4,5,6,7,8]`):\n",
    "```\n",
    "mylist[0]: 3\n",
    "mylist[1]: 4\n",
    "mylist[2]: 5\n",
    "mylist[3]: 6\n",
    "mylist[4]: 7\n",
    "mylist[5]: 8\n",
    "```\n",
    "\n",
    "* `fill_3_to_8()`: fills `mylist` with the values [3, 8]\n",
    "* `fill_random_numbers()`: fills `myarray` with random numbers in the range [1, 10]"
   ]
  },
  {
   "cell_type": "markdown",
   "metadata": {},
   "source": [
    "## Task 4\n",
    "Write a program which populates an list with integer values read from a file. The program must take the items in the list and reverse them. You may use one list only to solve this problem."
   ]
  },
  {
   "cell_type": "markdown",
   "metadata": {},
   "source": [
    "## Task 5\n",
    "Write a program that populates an array with 200 random integers in [1, 50]. The program must traverse through the array and determine how many times each integer was generated. Use a second array of size 51 to keep track of the number of times each integer was generated. Initialize each item in the second array to 0. For each item in the first array, use it as the index into the second array and increment the contents found in the second array at the corresponding index. \n",
    "\n",
    "Note: for this problem we are willing to trade memory efficiency (the second array is mostly unused) for time efficiency. We know indexing into an array is very efficient.\n"
   ]
  },
  {
   "cell_type": "markdown",
   "metadata": {},
   "source": [
    "## Task 6\n",
    "Implement a program that has a function that accepts an array of integers and the size of the array as parameters. The function sorts the array using the bubble sort algorithm: [http://en.wikipedia.org/wiki/Bubble_sort](http://en.wikipedia.org/wiki/Bubble_sort). Test your sorting function on an array of unsorted integers."
   ]
  },
  {
   "cell_type": "markdown",
   "metadata": {},
   "source": [
    "## Task 7\n",
    "For this task, we will be working with 2-dimensional lists, such as the following:\n",
    "\n",
    "```\n",
    "twod = [[1, 2, 3, 4], [5, 6, 7, 8], [9, 10, 11, 12]]\n",
    "```\n",
    "\n",
    "That is, a list of lists. Write a porgram the performs the following:\n",
    "* Write a function that accepts a 2D list as a parameter. Add 1 to all the values in row 2 and print out the array.\n",
    "* Write a function that accepts a 2D list as a parameter. Add 2 to all values that are even and print out the array.\n",
    "* Print the contents of twod in your `main()` function. Did the previous two functions modify the values of twod? Why or why not?"
   ]
  },
  {
   "cell_type": "markdown",
   "metadata": {},
   "source": [
    "## Task 8\n",
    "In this task, you will build a [postfix (sometimes called Reverse Polish) calculator](https://en.wikipedia.org/wiki/Reverse_Polish_notation). Instead of having mathematical operators between values, postfix expressions have the operator at the end of the expression.  As such, `\"3 + 2\"` becomes `\"3 2 +\"`.  As a more complex example, the equation `\"(1 + 2) * 5 / (3 - 7)\"` would convert into `\"1 2 + 5 * 3 7 - /\"`.  \n",
    "\n",
    "Postfix calculators can be built quite easily using Python lists and the functions `pop()` and `append()` ([documentation](https://docs.python.org/3/tutorial/datastructures.html). The basic procedure for postfix calculations are as follows:\n",
    "\n",
    "1.\tDefine a variable called `expression` and set it equal to an empty list\n",
    "2.\tPrompt the user for an equation to evaluate\n",
    "3.\tSplit that equation into pieces using the split() function. Example: \n",
    "    * `test = \"3 2 +\"`\n",
    "    * `pieces = test.split(' ')`\n",
    "4.\tFor each `piece` in `pieces`:\n",
    "    1. If the piece is a number (use `piece.isnumeric()` to figure this out):\n",
    "        1. Convert that piece into an integer\n",
    "        1. Use the `append()` function to add the number to the list expression.\n",
    "    1. Else if the piece is an operator (e.g. +, -, *, /), it is time to perform a calculation:\n",
    "        1. Use the `pop()` function to remove the top two values from the expression list and perform the requested mathematical operation.\n",
    "            1. Let the right value = the first item removed from the expression list\n",
    "            1. Let the left value = the 2nd item removed from the expression list\n",
    "        1. Use the `append()` function to add the result calculated in the previous step back into the expression list.\n",
    "\n",
    "Example program output:\n",
    "\n",
    "```\n",
    "*** Postfix Evaluator ***\n",
    "Enter an expression to evaluate: 3 2 +\n",
    "Result: 5\n",
    "Continue (y/n)?: y\n",
    "Enter an expression to evaluate: 1 2 + 5 * 3 7 - /\n",
    "Result: -3.75\n",
    "Continue (y/n)?: n\n",
    "```"
   ]
  },
  {
   "cell_type": "markdown",
   "metadata": {},
   "source": [
    "## Task 9\n",
    "For this task, we will use Turtle graphics. Write a program to use lists of lists to \"program\" turtle movement. Each list element is itself a list that contains the amount to move forward and the clockwise rotational angle. For example, the list [[100, 90], [100, 90], [100, 90], [100, 90]] contains four instructions, each telling the turtle to move forward 100 and rotate right 90 degrees, thereby drawing a square. Write a program that converts one of these lists into appropriate turtle movements.  \n",
    "\n",
    "Example program output for the list: `[[100, 135], [150, 160], [175, 135], [175, 150], [175, 0]]`\n",
    "![](https://raw.githubusercontent.com/gsprint23/cpts111/master/labs/figures/ugly_star.png)"
   ]
  },
  {
   "cell_type": "markdown",
   "metadata": {
    "collapsed": true
   },
   "source": [
    "## Task 10\n",
    "Note: This task builds off of PA6.\n",
    "\n",
    "For this task, we are going to write Python functions to modify images. The image format we are going to use is [PPM](http://netpbm.sourceforge.net/doc/ppm.html). Please review PA6 to acquiant yourself with the PPM image format.\n",
    "\n",
    "Write a program to extend PA6 by modifying a PPM image in two ways: gray scale the image and remove a color (i.e. remove all of the green in the image). The flow of your program is as follows:\n",
    "1. Prompt the user to enter the input PPM file name, the output PP1M file name, and the command \"gray scale\" or \"remove `<color>`\" to determine what modification to apply the input PPM image.\n",
    "1. Apply the modification:\n",
    "    1. Gray scale: Inspect all three red, green, and blue values for each pixel. For each RGB triplet, convert the values to the triplet's average. Example line: `1 2 3 200 100 150` as gray scale is `2 2 2 150 150 150`.\n",
    "    1. Remove a color: Set all green values to 0. Green is the 2nd value in an RGB triplet. Example line: `1 2 3 200 100 150` without green is `1 0 3 200 0 150`\n",
    "1. Write the modified image out to the user specified file\n",
    "\n",
    "Hint: Now that we know about lists, PA6 and this task are much easier! Simply break each line into a list of values using the string method [`split(<sep>)`](https://docs.python.org/3/library/stdtypes.html#str.split), which returns a list of the strings that were seperated by a delimiter, `sep`, such as a space \" \". Example: `pieces = line.split(\" \")`.\n",
    "\n",
    "Here is a [new bunny PPM image](https://raw.githubusercontent.com/gsprint23/cpts111/master/labs/files/bunny2.ppm) to work with. Here are also examples outputs:\n",
    "\n",
    "### Original\n",
    "![](https://raw.githubusercontent.com/gsprint23/cpts111/master/labs/figures/bunny2.png)\n",
    "\n",
    "### Gray Scale\n",
    "![](https://raw.githubusercontent.com/gsprint23/cpts111/master/labs/figures/bunny2_gray_scale.png)\n",
    "\n",
    "### Remove Red\n",
    "![](https://raw.githubusercontent.com/gsprint23/cpts111/master/labs/figures/bunny2_remove_red.png)\n",
    "\n",
    "### Remove Green\n",
    "![](https://raw.githubusercontent.com/gsprint23/cpts111/master/labs/figures/bunny2_remove_green.png)\n",
    "\n",
    "### Remove Blue\n",
    "![](https://raw.githubusercontent.com/gsprint23/cpts111/master/labs/figures/bunny2_remove_blue.png)"
   ]
  },
  {
   "cell_type": "code",
   "execution_count": null,
   "metadata": {
    "collapsed": true
   },
   "outputs": [],
   "source": []
  }
 ],
 "metadata": {
  "kernelspec": {
   "display_name": "Python 3",
   "language": "python",
   "name": "python3"
  },
  "language_info": {
   "codemirror_mode": {
    "name": "ipython",
    "version": 3
   },
   "file_extension": ".py",
   "mimetype": "text/x-python",
   "name": "python",
   "nbconvert_exporter": "python",
   "pygments_lexer": "ipython3",
   "version": "3.5.1"
  }
 },
 "nbformat": 4,
 "nbformat_minor": 0
}
