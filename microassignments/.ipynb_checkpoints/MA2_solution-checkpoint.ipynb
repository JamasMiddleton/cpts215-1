{
 "cells": [
  {
   "cell_type": "markdown",
   "metadata": {},
   "source": [
    "# [CptS 215 Data Analytics Systems and Algorithms](https://piazza.com/wsu/spring2017/cpts215/home)\n",
    "[Washington State University](https://wsu.edu)\n",
    "\n",
    "[Gina Sprint](http://eecs.wsu.edu/~gsprint/)\n",
    "\n",
    "## MA2 Solution"
   ]
  },
  {
   "cell_type": "markdown",
   "metadata": {
    "collapsed": true
   },
   "source": [
    "## Overview\n",
    "(From [Wikipedia](https://en.wikipedia.org/wiki/Amortizing_loan): An amortized loan is a loan where the principal of the loan is paid down over the life a loan (that is, amortized) according to an amortization schedule. Each payment to the lender will consist of a portion of interest and a portion of principal. Mortgage loans are typically amortizing loans. The calculations for an amortizing loan are those of an annuity using the time value of money formulas, and can be done using an amortization calculator.\n",
    "\n",
    "### Monthly Payment Calculation\n",
    "For calculating monthly payments, use the following formula:\n",
    "\n",
    "$$mpymt = \\frac{r(P)}{1 - (1 + r)^{-n}}$$\n",
    "\n",
    "Where $r$ is the *monthly* interest rate, $P$ is the cost of the car, and $n$ is the number of monthly payments. You can figure out $r$ by converting the interest rate the user enters to a decimal (divide by 100) and then dividing by 12 (12 months in a year). \n",
    "\n",
    "### Remaining Loan Balance\n",
    "For calculating the remaining balance on a loan, use the following forumla:\n",
    "\n",
    "$$Balance = P(1 + r)^{n} - mpymt \\frac{(1 + r)^{n} - 1}{r}$$"
   ]
  },
  {
   "cell_type": "code",
   "execution_count": 1,
   "metadata": {
    "collapsed": false
   },
   "outputs": [
    {
     "name": "stdout",
     "output_type": "stream",
     "text": [
      "Monthly payment: $4158.94\n",
      "Total loan amount: $249536.15\n",
      "Total interest paid: $107841.15\n",
      "Month\tStart Balance\tPrincipal\tInterest\tPayment\n",
      "1\t$141695.00\t$1206.96\t$2951.98\t$4158.94\n",
      "2\t$140488.04\t$1232.10\t$2926.83\t$4158.94\n",
      "3\t$139255.94\t$1257.77\t$2901.17\t$4158.94\n",
      "4\t$137998.17\t$1283.97\t$2874.96\t$4158.94\n",
      "5\t$136714.20\t$1310.72\t$2848.21\t$4158.94\n",
      "6\t$135403.47\t$1338.03\t$2820.91\t$4158.94\n",
      "7\t$134065.44\t$1365.91\t$2793.03\t$4158.94\n",
      "8\t$132699.54\t$1394.36\t$2764.57\t$4158.94\n",
      "9\t$131305.18\t$1423.41\t$2735.52\t$4158.94\n",
      "10\t$129881.77\t$1453.07\t$2705.87\t$4158.94\n",
      "11\t$128428.70\t$1483.34\t$2675.60\t$4158.94\n",
      "12\t$126945.36\t$1514.24\t$2644.70\t$4158.94\n",
      "13\t$125431.12\t$1545.79\t$2613.15\t$4158.94\n",
      "14\t$123885.33\t$1577.99\t$2580.94\t$4158.94\n",
      "15\t$122307.34\t$1610.87\t$2548.07\t$4158.94\n",
      "16\t$120696.48\t$1644.43\t$2514.51\t$4158.94\n",
      "17\t$119052.05\t$1678.68\t$2480.25\t$4158.94\n",
      "18\t$117373.37\t$1713.66\t$2445.28\t$4158.94\n",
      "19\t$115659.71\t$1749.36\t$2409.58\t$4158.94\n",
      "20\t$113910.35\t$1785.80\t$2373.13\t$4158.94\n",
      "21\t$112124.55\t$1823.01\t$2335.93\t$4158.94\n",
      "22\t$110301.54\t$1860.99\t$2297.95\t$4158.94\n",
      "23\t$108440.55\t$1899.76\t$2259.18\t$4158.94\n",
      "24\t$106540.79\t$1939.34\t$2219.60\t$4158.94\n",
      "25\t$104601.46\t$1979.74\t$2179.20\t$4158.94\n",
      "26\t$102621.72\t$2020.98\t$2137.95\t$4158.94\n",
      "27\t$100600.74\t$2063.09\t$2095.85\t$4158.94\n",
      "28\t$ 98537.65\t$2106.07\t$2052.87\t$4158.94\n",
      "29\t$ 96431.58\t$2149.94\t$2008.99\t$4158.94\n",
      "30\t$ 94281.64\t$2194.74\t$1964.20\t$4158.94\n",
      "31\t$ 92086.90\t$2240.46\t$1918.48\t$4158.94\n",
      "32\t$ 89846.44\t$2287.13\t$1871.80\t$4158.94\n",
      "33\t$ 87559.31\t$2334.78\t$1824.15\t$4158.94\n",
      "34\t$ 85224.52\t$2383.42\t$1775.51\t$4158.94\n",
      "35\t$ 82841.10\t$2433.08\t$1725.86\t$4158.94\n",
      "36\t$ 80408.02\t$2483.77\t$1675.17\t$4158.94\n",
      "37\t$ 77924.25\t$2535.51\t$1623.42\t$4158.94\n",
      "38\t$ 75388.74\t$2588.34\t$1570.60\t$4158.94\n",
      "39\t$ 72800.40\t$2642.26\t$1516.68\t$4158.94\n",
      "40\t$ 70158.14\t$2697.31\t$1461.63\t$4158.94\n",
      "41\t$ 67460.83\t$2753.50\t$1405.43\t$4158.94\n",
      "42\t$ 64707.33\t$2810.87\t$1348.07\t$4158.94\n",
      "43\t$ 61896.46\t$2869.43\t$1289.51\t$4158.94\n",
      "44\t$ 59027.04\t$2929.21\t$1229.73\t$4158.94\n",
      "45\t$ 56097.83\t$2990.23\t$1168.70\t$4158.94\n",
      "46\t$ 53107.60\t$3052.53\t$1106.41\t$4158.94\n",
      "47\t$ 50055.07\t$3116.12\t$1042.81\t$4158.94\n",
      "48\t$ 46938.95\t$3181.04\t$ 977.89\t$4158.94\n",
      "49\t$ 43757.91\t$3247.31\t$ 911.62\t$4158.94\n",
      "50\t$ 40510.60\t$3314.96\t$ 843.97\t$4158.94\n",
      "51\t$ 37195.63\t$3384.03\t$ 774.91\t$4158.94\n",
      "52\t$ 33811.61\t$3454.53\t$ 704.41\t$4158.94\n",
      "53\t$ 30357.08\t$3526.50\t$ 632.44\t$4158.94\n",
      "54\t$ 26830.58\t$3599.97\t$ 558.97\t$4158.94\n",
      "55\t$ 23230.62\t$3674.96\t$ 483.97\t$4158.94\n",
      "56\t$ 19555.65\t$3751.53\t$ 407.41\t$4158.94\n",
      "57\t$ 15804.13\t$3829.68\t$ 329.25\t$4158.94\n",
      "58\t$ 11974.44\t$3909.47\t$ 249.47\t$4158.94\n",
      "59\t$  8064.97\t$3990.92\t$ 168.02\t$4158.94\n",
      "60\t$  4074.06\t$4074.06\t$  84.88\t$4158.94\n",
      "61\t$     0.00\t$   0.00\t$   0.00\t$   0.00\n"
     ]
    },
    {
     "ename": "NameError",
     "evalue": "name 'locs' is not defined",
     "output_type": "error",
     "traceback": [
      "\u001b[1;31m---------------------------------------------------------------------------\u001b[0m",
      "\u001b[1;31mNameError\u001b[0m                                 Traceback (most recent call last)",
      "\u001b[1;32m<ipython-input-1-dd5f4d2bb39c>\u001b[0m in \u001b[0;36m<module>\u001b[1;34m()\u001b[0m\n\u001b[0;32m     66\u001b[0m \u001b[0my_labels\u001b[0m \u001b[1;33m=\u001b[0m \u001b[0myaxis\u001b[0m\u001b[1;33m.\u001b[0m\u001b[0mget_ticklabels\u001b[0m\u001b[1;33m(\u001b[0m\u001b[1;33m)\u001b[0m\u001b[1;33m\u001b[0m\u001b[0m\n\u001b[0;32m     67\u001b[0m \u001b[0my_labels\u001b[0m \u001b[1;33m=\u001b[0m \u001b[1;33m[\u001b[0m\u001b[1;34m\"$\"\u001b[0m \u001b[1;33m+\u001b[0m \u001b[0mx\u001b[0m\u001b[1;33m.\u001b[0m\u001b[0mget_text\u001b[0m\u001b[1;33m(\u001b[0m\u001b[1;33m)\u001b[0m \u001b[1;32mfor\u001b[0m \u001b[0mx\u001b[0m \u001b[1;32min\u001b[0m \u001b[0my_labels\u001b[0m\u001b[1;33m]\u001b[0m\u001b[1;33m\u001b[0m\u001b[0m\n\u001b[1;32m---> 68\u001b[1;33m \u001b[0mplt\u001b[0m\u001b[1;33m.\u001b[0m\u001b[0myticks\u001b[0m\u001b[1;33m(\u001b[0m\u001b[0mlocs\u001b[0m\u001b[1;33m,\u001b[0m \u001b[0my_labels\u001b[0m\u001b[1;33m)\u001b[0m\u001b[1;33m\u001b[0m\u001b[0m\n\u001b[0m\u001b[0;32m     69\u001b[0m \u001b[1;33m\u001b[0m\u001b[0m\n\u001b[0;32m     70\u001b[0m \u001b[0mplt\u001b[0m\u001b[1;33m.\u001b[0m\u001b[0mxlabel\u001b[0m\u001b[1;33m(\u001b[0m\u001b[1;34m\"Years\"\u001b[0m\u001b[1;33m)\u001b[0m\u001b[1;33m\u001b[0m\u001b[0m\n",
      "\u001b[1;31mNameError\u001b[0m: name 'locs' is not defined"
     ]
    },
    {
     "data": {
      "image/png": "[encoded data removed]",
      "text/plain": [
       "<matplotlib.figure.Figure at 0x617ff6a048>"
      ]
     },
     "metadata": {},
     "output_type": "display_data"
    }
   ],
   "source": [
    "%matplotlib inline\n",
    "import matplotlib.pyplot as plt\n",
    "import math\n",
    "import numpy as np\n",
    "\n",
    "# iterative solution\n",
    "def total_paid(P, r, n, mpymt):\n",
    "    '''\n",
    "\n",
    "    '''\n",
    "    interest = r * P\n",
    "    principal = mpymt - interest\n",
    "    start_bal = P\n",
    "    print(\"Month\\tStart Balance\\tPrincipal\\tInterest\\tPayment\")\n",
    "    for i in range(1, n + 1):\n",
    "        interest = r * start_bal\n",
    "        principal = mpymt - interest\n",
    "        bal = remaining_balance(P, r, i, mpymt)\n",
    "        print(\"%d\\t$%9.2f\\t$%7.2f\\t$%7.2f\\t$%7.2f\" %(i, start_bal, principal, interest, mpymt))\n",
    "        start_bal -= principal\n",
    "    print(\"%d\\t$%9.2f\\t$%7.2f\\t$%7.2f\\t$%7.2f\" %(n + 1, 0, 0, 0, 0))\n",
    "\n",
    "# formula-based solution\n",
    "def remaining_balance(P, r, n, mpymt):\n",
    "    '''\n",
    "    http://www.financeformulas.net/Remaining_Balance_Formula.html\n",
    "    '''\n",
    "    return P * (1 + r) ** n - mpymt * (((1 + r) ** n - 1) / r)\n",
    "\n",
    "title = \"BMW i8\"\n",
    "P = 141695.00\n",
    "r = 0.25 / 12\n",
    "n = 5 * 12\n",
    "'''\n",
    "title = input(\"What is this loan for? \")\n",
    "P = float(input(\"Please enter the principal amount for the loan: \"))\n",
    "r = float(input(\"Please enter the yearly interest rate (as a percent) for the loan: \"))\n",
    "n = int(input(\"Please enter the number of years for the loan: \"))\n",
    "'''\n",
    "mpymt = (r * P) / (1 - (1 + r) ** (-n))\n",
    "total = mpymt * n\n",
    "interest = total - P\n",
    "print(\"Monthly payment: $%.2f\" %(mpymt))\n",
    "print(\"Total loan amount: $%.2f\" %(total))\n",
    "print(\"Total interest paid: $%.2f\" %(interest))\n",
    "\n",
    "total_paid(P, r, n, mpymt)\n",
    "\n",
    "months = [x for x in range(0, n + 1, 1)]\n",
    "monthly_total_paid = [x * mpymt for x in months]\n",
    "monthly_balance_left = [remaining_balance(P, r, x, mpymt) \n",
    "                        for x in months]\n",
    "monthly_principal_paid = [P - x for x in monthly_balance_left]\n",
    "\n",
    "plt.plot(months, monthly_balance_left, label=\"Balance Remaining\")\n",
    "plt.fill_between(months, 0, monthly_total_paid, color=\"orange\", label=\"Interest Paid\")\n",
    "plt.fill_between(months, 0, monthly_principal_paid, color=\"green\", label=\"Principal Paid\")\n",
    "x_labels = np.arange(0, n // 12 + 1, 1)\n",
    "x_label_locations = np.arange(0, n + 1, 12)\n",
    "plt.xticks(x_label_locations, x_labels)\n",
    "\n",
    "# need to call draw() to position the ticks\n",
    "plt.ylim(0, plt.ylim()[1])\n",
    "plt.gcf().canvas.draw()\n",
    "yaxis = plt.gca().yaxis\n",
    "y_labels = yaxis.get_ticklabels()\n",
    "y_labels = [\"$\" + x.get_text() for x in y_labels]\n",
    "plt.yticks(locs, y_labels)\n",
    "\n",
    "plt.xlabel(\"Years\")\n",
    "plt.legend(loc=9)\n",
    "plt.title(title)\n",
    "plt.grid()"
   ]
  },
  {
   "cell_type": "code",
   "execution_count": null,
   "metadata": {
    "collapsed": true
   },
   "outputs": [],
   "source": []
  }
 ],
 "metadata": {
  "anaconda-cloud": {},
  "kernelspec": {
   "display_name": "Python [Root]",
   "language": "python",
   "name": "Python [Root]"
  },
  "language_info": {
   "codemirror_mode": {
    "name": "ipython",
    "version": 3
   },
   "file_extension": ".py",
   "mimetype": "text/x-python",
   "name": "python",
   "nbconvert_exporter": "python",
   "pygments_lexer": "ipython3",
   "version": "3.5.2"
  }
 },
 "nbformat": 4,
 "nbformat_minor": 0
}
