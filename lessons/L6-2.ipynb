{
 "cells": [
  {
   "cell_type": "markdown",
   "metadata": {},
   "source": [
    "# [CptS 215 Data Analytics Systems and Algorithms](https://piazza.com/wsu/fall2017/cpts215/home)\n",
    "[Washington State University](https://wsu.edu)\n",
    "\n",
    "[Gina Sprint](http://eecs.wsu.edu/~gsprint/)\n",
    "# L6-2 Quick Sort\n",
    "\n",
    "Learner objectives for this lesson:\n",
    "* Implement the quick sort algorithm\n",
    "* Perform algorithm analysis of quick sort\n",
    "\n",
    "## Acknowledgments\n",
    "Content used in this lesson is based upon information in the following sources:\n",
    "* No sources to report"
   ]
  },
  {
   "cell_type": "markdown",
   "metadata": {},
   "source": [
    "## Quick Sort\n",
    "Quick sort is similar to merge sort: it utilizes a divide and conquer strategy, it is naturally recursive, and it requires a helper function with loops. Quick sort however is faster than merge sort in most cases and it saves on storage.\n",
    "\n",
    "Note: in some cases, the sequence may not be divided in half, negating the time saved by the divide and conquer strategy.\n",
    "\n",
    "Big picture: Select a pivot value and *partition* the sequence by moving all values less than the pivot value to the left of the pivot value and moving all values greater than the pivot value to the right of the pivot value. Quick sort each subsequence on either side of the pivot value, until the subsequences are singletons.\n",
    "\n",
    "Example using the last value in the list as the initial pivot value:\n",
    "<img src=\"https://upload.wikimedia.org/wikipedia/commons/thumb/a/af/Quicksort-diagram.svg/2000px-Quicksort-diagram.svg.png\" width=\"400\">\n",
    "(image from [https://upload.wikimedia.org/wikipedia/commons/thumb/a/af/Quicksort-diagram.svg/2000px-Quicksort-diagram.svg.png](https://upload.wikimedia.org/wikipedia/commons/thumb/a/af/Quicksort-diagram.svg/2000px-Quicksort-diagram.svg.png))\n",
    "\n",
    "Note: there are many ways to select a pivot value. For simplicity reasons, we will select the first value in the sequence to be the pivot value.\n",
    "\n",
    "Algorithm:\n",
    "1. If start index is less than the end index\n",
    "    1. Partition the list\n",
    "        1. Choose a pivot value\n",
    "        1. Move all items smaller than the pivot value to the left side of the sequence\n",
    "        1. Move all items larger than the pivot value to the right side of the sequence\n",
    "        1. The location of the pivot value is called the split point\n",
    "    1. Quick sort the left side of the list (start index to split point - 1 inclusive)\n",
    "    1. Quick sort the right side of the list (split point + 1 to end index inclusive)\n",
    "    \n",
    "Python implementation using lists:"
   ]
  },
  {
   "cell_type": "code",
   "execution_count": null,
   "metadata": {
    "collapsed": true
   },
   "outputs": [],
   "source": [
    "import numpy.random as rand\n",
    "\n",
    "def quick_sort(array):\n",
    "    '''\n",
    "    \n",
    "    '''\n",
    "    quick_sort_helper(array, 0, len(array) - 1)\n",
    "    \n",
    "def quick_sort_helper(array, start_index, end_index):\n",
    "    '''\n",
    "    \n",
    "    '''\n",
    "    if start_index < end_index:\n",
    "        split_point = partition(array, start_index, end_index)\n",
    "        quick_sort_helper(array, start_index, split_point - 1)\n",
    "        quick_sort_helper(array, split_point + 1, end_index)\n",
    "    \n",
    "def partition(array, start_index, end_index):\n",
    "    '''\n",
    "    \n",
    "    '''\n",
    "    pivot_value = array[start_index]\n",
    "\n",
    "    left_mark = start_index + 1\n",
    "    right_mark = end_index\n",
    "\n",
    "    while True:\n",
    "        while left_mark <= right_mark and array[left_mark] <= pivot_value:\n",
    "            left_mark = left_mark + 1\n",
    "\n",
    "        while array[right_mark] >= pivot_value and right_mark >= left_mark:\n",
    "            right_mark = right_mark - 1\n",
    "\n",
    "        if right_mark < left_mark:\n",
    "            break\n",
    "        else:\n",
    "            temp = array[left_mark]\n",
    "            array[left_mark] = array[right_mark]\n",
    "            array[right_mark] = temp\n",
    "\n",
    "    temp = array[start_index]\n",
    "    array[start_index] = array[right_mark]\n",
    "    array[right_mark] = temp\n",
    "    return right_mark\n",
    "   \n",
    "data = rand.randn(10)\n",
    "print(data)\n",
    "quick_sort(data)\n",
    "print(data)"
   ]
  },
  {
   "cell_type": "markdown",
   "metadata": {},
   "source": [
    "#### Quick Sort Time Complexity\n",
    "* Average case: $\\mathcal{O}(n log n)$\n",
    "* Worst case: $\\mathcal{O}(n^{2})$\n",
    "* Best case: $\\Omega(n log n)$"
   ]
  },
  {
   "cell_type": "markdown",
   "metadata": {},
   "source": [
    "## Practice Problems\n",
    "\n",
    "### 1\n",
    "For the following list, 34 50 25 16 60 82 76 5 25, walk through the quick sort algorithm and show the state of the list at each pass.\n",
    "\n",
    "### 2\n",
    "When does quick sort work best, and when does it work worst?\n",
    "\n",
    "### 3\n",
    "What is the purpose of the pivot value in quick sort? What are high performing ways to select the initial pivot value? Search the internet and other pertinent resources to help answer this question.\n",
    "\n",
    "The following questions review sorting in general.\n",
    "\n",
    "### 4\n",
    "Name two quadratic sorts.\n",
    "\n",
    "### 5\n",
    "Name two sorts with $\\mathcal{O}(n log n)$ worse case behavior.\n",
    "\n",
    "### 6\n",
    "Which algorithm(s) are particularly good for an array that is already sorted? Which is particularly bad? Why?\n",
    "\n",
    "### 7\n",
    "What is a good all purpose sorting algorithm for medium-size arrays?"
   ]
  }
 ],
 "metadata": {
  "anaconda-cloud": {},
  "kernelspec": {
   "display_name": "Python [Root]",
   "language": "python",
   "name": "Python [Root]"
  },
  "language_info": {
   "codemirror_mode": {
    "name": "ipython",
    "version": 3
   },
   "file_extension": ".py",
   "mimetype": "text/x-python",
   "name": "python",
   "nbconvert_exporter": "python",
   "pygments_lexer": "ipython3",
   "version": "3.5.2"
  }
 },
 "nbformat": 4,
 "nbformat_minor": 0
}
