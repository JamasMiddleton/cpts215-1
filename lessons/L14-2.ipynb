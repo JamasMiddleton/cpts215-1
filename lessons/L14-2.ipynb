{
 "cells": [
  {
   "cell_type": "markdown",
   "metadata": {},
   "source": [
    "# [CptS 215 Data Analytics Systems and Algorithms](https://piazza.com/wsu/spring2017/cpts215/home)\n",
    "[Washington State University](https://wsu.edu)\n",
    "\n",
    "[Gina Sprint](http://eecs.wsu.edu/~gsprint/)\n",
    "# L14-2 Case Study: Web Scraping\n",
    "\n",
    "Learner objectives for this lesson:\n",
    "* HTML overview\n",
    "* Understand the purpose of web scraping\n",
    "* Implement a web scraper\n",
    "* Parse HTML using the BeautifulSoup library\n",
    "\n",
    "\n",
    "## Acknowledgments\n",
    "Content used in this lesson is based upon information in the following sources:\n",
    "* [Data Science from Scratch](https://www.amazon.com/Data-Science-Scratch-Principles-Python/dp/149190142X/ref=sr_1_1?ie=UTF8&qid=1491521130&sr=8-1&keywords=joel+grus) by Joel Grus"
   ]
  },
  {
   "cell_type": "markdown",
   "metadata": {},
   "source": [
    "## HTML Overview\n",
    "HTML is the standard markup language used to create web pages. HTML is characterized by tags, which are angle brackets < > used to \"label\" content. You have probably seen HTML before, maybe something like: \n",
    "\n",
    "```html\n",
    "<h1>This is a header</h1>\n",
    "```\n",
    "\n",
    "In the above example, the text \"This is a header\" is labeled as a first (top) level header. \n",
    "\n",
    "Let's cover a few HTML basics.\n",
    "\n",
    "### Header and Trailer\n",
    "HTML files typically include a *header* (top of the file) that may look like the following:\n",
    "\n",
    "```html\n",
    "<!DOCTYPE html>\n",
    "<html>\n",
    "<head>\n",
    "<link rel=\"stylesheet\" href=\"http://s3.amazonaws.com/codecademy-content/courses/ltp/css/bootstrap.css\">\n",
    "<link rel=\"shortcut icon\" href=\"http://www.wsulibs.wsu.edu/sites/all/themes/wsulibtest/favicon.ico\" type=\"image/vnd.microsoft.icon\" />\n",
    "<title>Personal Website</title>\n",
    "</head>\n",
    "<body>\n",
    "<div class=\"container\">\n",
    "```\n",
    "\n",
    "And a *trailer* (end of the file):\n",
    "```html\n",
    "</div>\n",
    "</body>\n",
    "</html>\n",
    "```\n",
    "\n",
    "### Comments\n",
    "A comment in HTML begins with `<!––` and ends with `––>`. Comments are visible in the HTML source code, but are not rendered by a browser.\n",
    "\n",
    "For example, a comment in HTML:\n",
    "\n",
    "```html\n",
    "<!-- This is a comment in HTML -->\n",
    "```\n",
    "\n",
    "### Section Headers\n",
    "Section headers are used to label a section. There are 6 different levels of headers:\n",
    "# Header Level 1\n",
    "## Header Level 2\n",
    "### Header Level 3\n",
    "#### Header Level 4\n",
    "##### Header Level 5\n",
    "###### Header Level 6\n",
    "Each header (except for level 1) represents a sub section of previous, higher level headers. \n",
    "\n",
    "A phrase in HTML is specified as a header by beginning with the `<h1>` tag for a header level 1 and ending with the `</h1>` tag. The number of after the \"h\" in the tag denotes the level of the header. For example, a level 3 header in HTML: \n",
    "\n",
    "```html\n",
    "<h3>This is a level 3 header</h3>\n",
    "```\n",
    "would be displayed in a browser as:\n",
    "### This is a level 3 header\n",
    "\n",
    "### Paragraphs\n",
    "A paragraph in HTML is defined with the tag `<p>` and `</p>`. For example:\n",
    "\n",
    "```html\n",
    "<p>This is a really short paragraph. Only two sentences!</p>\n",
    "```\n",
    "\n",
    "would be displayed in a browser as:\n",
    "<p>This is a really short paragraph. Only two sentences!</p>\n",
    "\n",
    "### Unordered Lists\n",
    "Begin an unordered list (bulleted list) in HTML with the tag `<ul>` and end the list with the tag `</ul>`. In between these tags, preface each item in an unordered list with the tag `<li>` (short for list item) and end the list item with the tag `</li>`. For example:\n",
    "\n",
    "```html\n",
    "<ul>\n",
    "<li>Item1</li>\n",
    "<li>Item2</li>\n",
    "<li>Item3</li>\n",
    "</ul>\n",
    "```\n",
    "would be displayed in a browser as:\n",
    "* Item1\n",
    "* Item2\n",
    "* Item3\n",
    "\n",
    "### Images\n",
    "To include an image in HTML, like Markdown we need to specify a link to the image with the `<img>` tag. Using the same example:\n",
    "\n",
    "`<img src=\"https://www.python.org/static/community_logos/python-logo-master-v3-TM.png\">`\n",
    "would be displayed in a browser as:\n",
    "<img src=\"https://www.python.org/static/community_logos/python-logo-master-v3-TM.png\">\n",
    "\n",
    "### Tables\n",
    "Tables in HTML are used to arrange data into rows and columns of cells. Tables are created using the `<table>` an `</table>` tags. In a table, the `<tr>` and `</tr>` tags create rows in the table. In a row, the `<td>` and `</td>` tags are used to create data cells. For example:\n",
    "\n",
    "```html\n",
    "<table>\n",
    "<tr><td>Row 0 Col 0</td><td>Row 0 Col 1</td><td>Row 0 Col 2</td></tr>\n",
    "<tr><td>Row 1 Col 0</td><td>Row 1 Col 1</td><td>Row 1 Col 2</td></tr>\n",
    "</table>\n",
    "```\n",
    "\n",
    "would be displayed in a browser as:\n",
    "<table>\n",
    "<tr><td>Row 0 Col 0</td><td>Row 0 Col 1</td><td>Row 0 Col 2</td></tr>\n",
    "<tr><td>Row 1 Col 0</td><td>Row 1 Col 1</td><td>Row 1 Col 2</td></tr>\n",
    "</table>\n",
    "\n",
    "### Example\n",
    "[personal_website.html](https://raw.githubusercontent.com/gsprint23/cpts215/master/lessons/files/personal_website.html) is a simple example HTML file containing some of the above HTML elements. The webpage is a simple personal website with info for Butch T. Cougar, our WSU mascot. You can view an HTML file as text (useful for debugging) and with a web browser to see what it looks like [personal_website.html](http://htmlpreview.github.com/?https://github.com/gsprint23/cpts215/blob/master/lessons/files/personal_website.html).\n",
    "\n",
    "Note: you can view the HTML for any web page by right clicking on the page and selecting \"View page source\".\n",
    "\n",
    "### Learning More HTML\n",
    "There are lots of create HTML tutorials and references online. I recommend [Codeacademy's HTML and CSS tutorial](https://www.codecademy.com/learn/web) and [Tutorial's Point's HTML tutorial](http://www.tutorialspoint.com/html/)."
   ]
  },
  {
   "cell_type": "markdown",
   "metadata": {},
   "source": [
    "## Web Scraping\n",
    "As we saw in a previous case study, we can use [RESTful APIs](https://en.wikipedia.org/wiki/Representational_state_transfer) to query information from a web service such as Google Maps. Google Maps has servers that listen for HTTP requests and respond to the requests accordingly (e.g. with the requested web page, file, and/or data). We can also get data by [*scraping*](https://en.wikipedia.org/wiki/Web_scraping) it from web pages. To web scrape, we fetch the HTML for a web page and parse it on the client side to extract the information we are looking for. Often programmers will write a script that regularly scrapes several web pages, downloading data and looking for changes/updates. Such a program is often called a web crawler or a bot.\n",
    "\n",
    "Note: When web scraping, we want to make sure we are abiding by the website's rules for web crawlers. This is usually specified in a file called robots.txt hosted on the website. For example, here is the link to [WSU's robots.txt](https://wsu.edu/robots.txt).\n",
    "\n",
    "You can read more about the purpose of [robots.txt](https://en.wikipedia.org/wiki/Robots_exclusion_standard).\n",
    "\n",
    "### Requesting a Webpage\n",
    "Let's work an example where we scrape the WSU Data Analytics webpage: [https://data-analytics.wsu.edu/](https://data-analytics.wsu.edu/). We can use the `urllib` module to request the html of the webpage in the same manner we used the module to query the Google Maps API."
   ]
  },
  {
   "cell_type": "code",
   "execution_count": null,
   "metadata": {
    "collapsed": false
   },
   "outputs": [],
   "source": [
    "import urllib.request\n",
    "\n",
    "url = \"https://data-analytics.wsu.edu/\"\n",
    "web_obj = urllib.request.urlopen(url)\n",
    "html = web_obj.read().decode(\"UTF-8\")\n",
    "web_obj.close()\n",
    "N = 200\n",
    "# display the first N characters of the HTML\n",
    "print(html[:N])\n",
    "print(\"********************************\")\n",
    "# display the last N characters of the HTML\n",
    "print(html[-(N + 1):])"
   ]
  },
  {
   "cell_type": "markdown",
   "metadata": {},
   "source": [
    "You can see the header and the trailer in the code. Now, we would likely want to pull some information from the HTML. As you can tell by looking at HTML, this is not as straightforward as we would like it to be. We can make information extraction from the HTML a little bit easier by storing the HTML elements in a tree structure that we can search and index.\n",
    "\n",
    "### Beautiful Soup\n",
    "[`Beautiful Soup`](https://www.crummy.com/software/BeautifulSoup/) is a Python library for parsing text into a tree structure. An example tree looks like the following:\n",
    "<img src=\"https://www.w3schools.com/js/pic_htmltree.gif\">\n",
    "(image from [https://www.w3schools.com/js/pic_htmltree.gif](https://www.w3schools.com/js/pic_htmltree.gif))\n",
    "\n",
    "From the Beautiful Soup website: \n",
    "\n",
    ">Beautiful Soup is a Python library designed for quick turnaround projects like screen-scraping. Three features make it powerful:\n",
    "\n",
    ">1. Beautiful Soup provides a few simple methods and Pythonic idioms for navigating, searching, and modifying a parse tree: a toolkit for dissecting a document and extracting what you need. It doesn't take much code to write an application\n",
    "1. Beautiful Soup automatically converts incoming documents to Unicode and outgoing documents to UTF-8. You don't have to think about encodings, unless the document doesn't specify an encoding and Beautiful Soup can't detect one. Then you just have to specify the original encoding.\n",
    "1. Beautiful Soup sits on top of popular Python parsers like lxml and html5lib, allowing you to try out different parsing strategies or trade speed for flexibility.\n",
    "\n",
    ">Beautiful Soup parses anything you give it, and does the tree traversal stuff for you. You can tell it \"Find all the links\", or \"Find all the links of class externalLink\", or \"Find all the links whose urls match \"foo.com\", or \"Find the table heading that's got bold text, then give me that text.\"\n",
    "\n",
    ">Valuable data that was once locked up in poorly-designed websites is now within your reach. Projects that would have taken hours take only minutes with Beautiful Soup.\n",
    "\n",
    "You can download Beautiful Soup using pip (`pip install beautifulsoup4`) or from the [Beautiful Soup downloads page](https://www.crummy.com/software/BeautifulSoup/bs4/download/). We will also be using the `html5lib` module for HTML parsing. You can download it using `pip install html5lib` or from the [html5lib downloads page](https://pypi.python.org/pypi/html5lib).\n",
    "\n",
    "With Beautiful Soup and `html5lib`, we can easily search for HTML tags and attributes. In the following example, all paragraphs are found by searching for the `<p>` tag."
   ]
  },
  {
   "cell_type": "code",
   "execution_count": null,
   "metadata": {
    "collapsed": false
   },
   "outputs": [],
   "source": [
    "from bs4 import BeautifulSoup\n",
    "soup = BeautifulSoup(html, 'html5lib')\n",
    "first_paragraph = soup.find(\"p\")\n",
    "print(first_paragraph, \"\\n\")\n",
    "all_paragraphs = soup.find_all(\"p\")\n",
    "for i, para in enumerate(all_paragraphs):\n",
    "    # the text attribute of the bs4.element.Tag class stores the paragraph text (no tags)\n",
    "    print(\"Paragraph %d\\n%s\\n\\n\" %(i, para.text))"
   ]
  },
  {
   "cell_type": "markdown",
   "metadata": {},
   "source": [
    "## Web Scraping Example\n",
    "Let's work a more complete web scraping example. This example is adapted from [Data Science from Scratch](https://www.amazon.com/Data-Science-Scratch-Principles-Python/dp/149190142X/ref=sr_1_1?ie=UTF8&qid=1491521130&sr=8-1&keywords=joel+grus) by Joel Grus.\n",
    "\n",
    "[O'Reilly](https://www.oreilly.com/) is a publishing company that lists its published books on their website: [http://shop.oreilly.com](http://shop.oreilly.com). Suppose we want to specifically look at data-related books: [http://shop.oreilly.com/category/browse-subjects/data.do](http://shop.oreilly.com/category/browse-subjects/data.do). 30 books (or ebooks or videos) are shown per page. [http://shop.oreilly.com/robots.txt](http://shop.oreilly.com/robots.txt) states that we can scrape [http://shop.oreilly.com/category/browse-subjects/data.do](http://shop.oreilly.com/category/browse-subjects/data.do) as long as we don't request a page more often than every 30 seconds. \n",
    "\n",
    "Each book/ebook/video listed is stored in a cell in an HTML table. Cells are specified with the `<td>` and `</td>` tags. The specific element class of the table cell for a book/ebook/video is `thumbtext`. If we extract all of the `<td class=\"thumbtext\">` elements from the HTML text and count them, it should sum to 30, the number of books/ebooks/videos displayed per page."
   ]
  },
  {
   "cell_type": "code",
   "execution_count": 1,
   "metadata": {
    "collapsed": false
   },
   "outputs": [
    {
     "name": "stdout",
     "output_type": "stream",
     "text": [
      "Number of books/ebooks/videos on the first page: 30\n"
     ]
    }
   ],
   "source": [
    "from bs4 import BeautifulSoup\n",
    "import urllib.request\n",
    "\n",
    "def get_soup(url):\n",
    "    '''\n",
    "    \n",
    "    '''\n",
    "    web_obj = urllib.request.urlopen(url)\n",
    "    html = web_obj.read().decode(\"UTF-8\")\n",
    "    web_obj.close()\n",
    "\n",
    "    soup = BeautifulSoup(html, 'html5lib')\n",
    "    return soup\n",
    "\n",
    "url = \"http://shop.oreilly.com/category/browse-subjects/data.do\"\n",
    "soup = get_soup(url)\n",
    "tds = soup.find_all(\"td\", \"thumbtext\")\n",
    "print(\"Number of books/ebooks/videos on the first page:\", len(tds))"
   ]
  },
  {
   "cell_type": "markdown",
   "metadata": {},
   "source": [
    "Now, we want to only count the paper books and ebooks, not the videos. Each `<td class=\"thumbtext\">` has a `<span>` element tag with class `pricelabel`: `<span class=pricelabel>`. The text of the this is the type of book, a colon, and the price of the book/ebook/video stored in another span (`<span class=price>`). "
   ]
  },
  {
   "cell_type": "code",
   "execution_count": 2,
   "metadata": {
    "collapsed": false
   },
   "outputs": [
    {
     "name": "stdout",
     "output_type": "stream",
     "text": [
      "<span class=\"pricelabel\">\t\t\t\t\t\t\t\t\t\t\t\t\t\t\t\t\t\t\t\t\t\t\t\t\t\t\t\t\t\t\tEbook\t\t\t\t\t\t\t\t\t\t\t:\t\t\t\t\t\t\t\t\t\t\t\t\t\t\t\t\t\t\t\t\t\t\t\t\t\t\t\t\t\t\t\t\t\t\t\t\t\t\t\t\t\t\t\t\t<span class=\"price\"> $0.00</span>\t\t\t\t\t\t\t\t\t\t\t\t\t\t\t\t\t\t\t\t</span>\n"
     ]
    }
   ],
   "source": [
    "first_td = tds[0]\n",
    "pricelabel = first_td.find(\"span\", \"pricelabel\")\n",
    "pricelabel = \"\".join(str(pricelabel).split(\"\\n\")) # to make the output shorter\n",
    "print(pricelabel)"
   ]
  },
  {
   "cell_type": "markdown",
   "metadata": {},
   "source": [
    "If we investigate the different types of books on the webpage (either in HTML or in the browser), we see that videos only have one price label:\n",
    "\n",
    "<img src=\"https://raw.githubusercontent.com/gsprint23/cpts215/master/lessons/figures/oreilly_books.png\" width=\"700\">\n",
    "\n",
    "So we can find out if a cell stores a video and we can filter out the videos from our list."
   ]
  },
  {
   "cell_type": "code",
   "execution_count": 3,
   "metadata": {
    "collapsed": false
   },
   "outputs": [
    {
     "name": "stdout",
     "output_type": "stream",
     "text": [
      "Number of books/ebooks on the first page: 18\n"
     ]
    }
   ],
   "source": [
    "def is_video(td):\n",
    "    '''\n",
    "    \n",
    "    '''\n",
    "    pricelabels = td(\"span\", \"pricelabel\")\n",
    "    first_price_label = pricelabels[0].text.strip()\n",
    "    if len(pricelabels) == 1 and first_price_label.startswith(\"Video\"):\n",
    "        return True\n",
    "    return False\n",
    "\n",
    "non_vids = [td for td in tds if not is_video(td)]\n",
    "print(\"Number of books/ebooks on the first page:\", len(non_vids))"
   ]
  },
  {
   "cell_type": "markdown",
   "metadata": {},
   "source": [
    "Now, we want to extract information about each book/ebook, including:\n",
    "* Title\n",
    "* Author\n",
    "* Date of publishing"
   ]
  },
  {
   "cell_type": "code",
   "execution_count": 4,
   "metadata": {
    "collapsed": false
   },
   "outputs": [
    {
     "name": "stdout",
     "output_type": "stream",
     "text": [
      "First book's info: {'title': 'The Internet of Things Market', 'author': 'By Aman Naimat', 'date': 'April 2017'}\n"
     ]
    }
   ],
   "source": [
    "def extract_book_info(td):\n",
    "    '''\n",
    "    \n",
    "    '''\n",
    "    title = td.find(\"div\", \"thumbheader\", \"a\").text.strip()\n",
    "    author = td.find(\"div\", \"AuthorName\").text.strip()\n",
    "    date = td.find(\"span\", \"directorydate\").text.strip()\n",
    "    \n",
    "    info = {\"title\": title, \"author\": author, \"date\": date}\n",
    "    return info\n",
    "\n",
    "book_info = [extract_book_info(td) for td in non_vids]\n",
    "print(\"First book's info:\", book_info[0])"
   ]
  },
  {
   "cell_type": "markdown",
   "metadata": {},
   "source": [
    "Cool! Now let's extract the book information for *all* of the data books on the O'Reilly website."
   ]
  },
  {
   "cell_type": "code",
   "execution_count": 8,
   "metadata": {
    "collapsed": false
   },
   "outputs": [
    {
     "name": "stdout",
     "output_type": "stream",
     "text": [
      "Last books info: {'title': 'The KBMT Project', 'author': 'By Kenneth Goodman, Sergei Nirenburg', 'date': 'September 1991'}\n"
     ]
    }
   ],
   "source": [
    "import time\n",
    "\n",
    "def get_number_pages(soup):\n",
    "    '''\n",
    "    \n",
    "    '''\n",
    "    dirPage = soup.find(\"td\", \"default\").find(\"select\")\n",
    "    pages_text = dirPage.find(\"option\").text.strip()\n",
    "    of_index = pages_text.find(\"of\")\n",
    "    num_pages = int(pages_text[of_index + 3:])\n",
    "    return num_pages\n",
    "\n",
    "def extract_all_books_information():\n",
    "    '''\n",
    "    \n",
    "    '''\n",
    "    base_url = \"http://shop.oreilly.com/category/browse-subjects/data.do?page=\"\n",
    "    first_page_soup = get_soup(base_url + \"1\")\n",
    "    num_pages = get_number_pages(first_page_soup)\n",
    "    #num_pages = 2 # for debugging purposes\n",
    "    books_info = []\n",
    "    for i in range(1, num_pages + 1):\n",
    "        paged_url = base_url + str(i)\n",
    "        soup = get_soup(paged_url)\n",
    "        for td in soup.find_all(\"td\", \"thumbtext\"):\n",
    "            if not is_video(td):\n",
    "                book_info = extract_book_info(td)\n",
    "                books_info.append(book_info)\n",
    "        time.sleep(30) # to comply with robots.txt\n",
    "    return books_info\n",
    "    \n",
    "        \n",
    "books = extract_all_books_information()\n",
    "print(\"Last books info:\", books[-1])"
   ]
  },
  {
   "cell_type": "markdown",
   "metadata": {},
   "source": [
    "Lastly, let's count the number of books published each year and plot the results! We will be able to see the trend in the data books publishing with this plot."
   ]
  },
  {
   "cell_type": "code",
   "execution_count": 14,
   "metadata": {
    "collapsed": false
   },
   "outputs": [
    {
     "data": {
      "image/png": "[encoded data removed]",
      "text/plain": [
       "<matplotlib.figure.Figure at 0x9e903e0278>"
      ]
     },
     "metadata": {},
     "output_type": "display_data"
    }
   ],
   "source": [
    "from collections import Counter\n",
    "import matplotlib.pyplot as plt\n",
    "%matplotlib inline\n",
    "\n",
    "def get_year(book):\n",
    "    '''\n",
    "    book is a dictionary\n",
    "    date is of the form \"Month Year\"\n",
    "    '''\n",
    "    date = book[\"date\"].split(\" \")\n",
    "    year = int(date[1])\n",
    "    return year\n",
    "\n",
    "def plot_book_counts(years, counts):\n",
    "    '''\n",
    "    \n",
    "    '''\n",
    "    plt.plot(years, counts)\n",
    "    plt.xlabel(\"Year\")\n",
    "    plt.ylabel(\"# of O'Reilly Data Books Published\")\n",
    "    plt.show()\n",
    "\n",
    "years = [get_year(book) for book in books if get_year(book) <= 2016] # only include years with full data\n",
    "year_counts = Counter(years)\n",
    "years = sorted(year_counts)\n",
    "counts = [year_counts[year] for year in years]\n",
    "plot_book_counts(years, counts)"
   ]
  }
 ],
 "metadata": {
  "anaconda-cloud": {},
  "kernelspec": {
   "display_name": "Python [Root]",
   "language": "python",
   "name": "Python [Root]"
  },
  "language_info": {
   "codemirror_mode": {
    "name": "ipython",
    "version": 3
   },
   "file_extension": ".py",
   "mimetype": "text/x-python",
   "name": "python",
   "nbconvert_exporter": "python",
   "pygments_lexer": "ipython3",
   "version": "3.5.2"
  }
 },
 "nbformat": 4,
 "nbformat_minor": 0
}
