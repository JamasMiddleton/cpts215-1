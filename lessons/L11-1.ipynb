{
 "cells": [
  {
   "cell_type": "markdown",
   "metadata": {},
   "source": [
    "# [CptS 215 Data Analytics Systems and Algorithms](https://piazza.com/wsu/fall2017/cpts215/home)\n",
    "[Washington State University](https://wsu.edu)\n",
    "\n",
    "[Gina Sprint](http://eecs.wsu.edu/~gsprint/)\n",
    "# L11-1 Heaps\n",
    "\n",
    "Learner objectives for this lesson:\n",
    "* Understand what a priority queue is\n",
    "* Learn about the heap data structure to implement a priority queue\n",
    "\n",
    "\n",
    "## Acknowledgments\n",
    "Content used in this lesson is based upon information in the following sources:\n",
    "* [Miller and Ranum](http://interactivepython.org/runestone/static/pythonds/index.html)"
   ]
  },
  {
   "cell_type": "markdown",
   "metadata": {},
   "source": [
    "## Priority Queues\n",
    "A priority queue is a queue that orders the items in the queue by their *priority*. The items with the highest priority are at the front of the queue and the items with the lowest priority are at the back of the queue. If an very high priority item is enqueued, it will be stored toward (or possibly) at the front of the queue. It will thus be one of the first (or the first) items dequeued from the queue. \n",
    "\n",
    "We could adapt our queue code from several weeks ago to be an implementation of a priority queue. We can enqueue items into the queue in sorted order. Such an algorithm would be $\\mathcal{O}(n)$. Instead, if we implement the priority queue with a *special* tree-like structure, we can enqueue and dequeue items with $\\mathcal{O}(log n)$ efficiency. The special tree is called a *binary heap*.\n",
    "\n",
    "## Binary Heaps\n",
    "A binary heap is a binary-tree like structure that is usually a min heap or a max heap. A *min* heap maintains the smallest (least priority) items at the front of the queue. A *max* heap maintains the largest (least priority) items at the back of the queue. We will derive the interface and implementation of a min heap, though the implementation of the max heap is nearly the same.\n",
    "\n",
    "### Data Structure\n",
    "A binary heap is going to be implemented as a balanced binary tree in order to keep enqueue and dequeue $\\mathcal{O}(log n)$. We will keep the heap balanced by creating the heap as a *complete binary tree*. Each level in a complete binary tree is full, except for the bottom level of the tree. The bottom level of the tree will be filled from left to right. \n",
    "\n",
    "Example of complete binary tree:\n",
    "<img src=\"http://interactivepython.org/runestone/static/pythonds/_images/compTree.png\" width=\"600\">\n",
    "(image from [http://interactivepython.org/runestone/static/pythonds/_images/compTree.png](http://interactivepython.org/runestone/static/pythonds/_images/compTree.png))\n",
    "\n",
    "While we can store a complete binary tree in an object oriented fashion (nodes and links), we can more conveniently store it as a single list using indexes and offsets. Let a parent node $p$ be at index $i_{p}$ in the list. The left child of $p$ is at index $2 * p_{i}$. The right child of $p$ is at index $2 * p_{i} + 1$. The parent of any node $n$ at index $n_{i}$ is at index $n // 2$. This storage of a complete binary tree in a single list lends itself well to efficient traversals and an efficient binary heap implementation.\n",
    "\n",
    "Note: Since the list stores a complete binary tree, all nodes past the half way point in the list (`len(list)` // 2) is a leaf node.\n",
    "\n",
    "### Heap Order Property\n",
    "In a heap, for every node `x` with parent node `p`, the item in `p` is smaller than or equal to the key in `x`. A tree that upholds the heap property will always have the smallest item in the root node. \n",
    "\n",
    "Example of a tree with the heap order property:\n",
    "<img src=\"http://interactivepython.org/runestone/static/pythonds/_images/heapOrder.png\" width=\"600\">\n",
    "(image from [http://interactivepython.org/runestone/static/pythonds/_images/heapOrder.png](http://interactivepython.org/runestone/static/pythonds/_images/heapOrder.png))\n",
    "\n",
    "Below the heap is a list implementation. The first item at index 0 is 0. This is defined as such so the integer division used to lookup parent nodes results in the root node (smallest item in the heap) being at index position 1. \n",
    "\n",
    "### Min Heap Interface\n",
    "Public min heap methods include the following:\n",
    "1. `BinaryHeap()`: creates a new, empty binary min heap\n",
    "1. `insert(item)`: inserts the new item into the heap (like enqueue)\n",
    "    * Add `item` to the end of the list (fills the complete binary tree from left to right). Bubble (percolate) up the new item to its proper position in the tree by swapping with its parent until it is larger than its parent (maintains the binary heap property).\n",
    "<img src=\"http://interactivepython.org/runestone/static/pythonds/_images/percUp.png\" width=\"600\">\n",
    "(image from [http://interactivepython.org/runestone/static/pythonds/_images/percUp.png](http://interactivepython.org/runestone/static/pythonds/_images/percUp.png))\n",
    "1. `find_min()`: returns the item at the front of the heap without removing it (like peek)\n",
    "    * Min item is at index 1\n",
    "1. `del_min()`: returns the item at the front of the heap and removes it (like dequeue)\n",
    "    * Replace the root with the last item in the list (maintains tree completeness). Restore the binary heap property in the tree by bubbling down the root item to its proper position in the tree by swapping with its smallest child until it is smaller than both of its children (maintains the binary heap property).\n",
    "<img src=\"http://interactivepython.org/runestone/static/pythonds/_images/percDown.png\" width=\"600\">\n",
    "(image from [http://interactivepython.org/runestone/static/pythonds/_images/percDown.png](http://interactivepython.org/runestone/static/pythonds/_images/percDown.png))\n",
    "1. `is_empty()`: returns True if the heap is empty, False otherwise\n",
    "1. `build_heap(list)`: builds a new heap from a list of items\n",
    "    * Set the heap to be the new list of items. Starting with the first non leaf node and working up to the node, move the nodes into their proper positions by bubbling down.\n",
    "<img src=\"http://interactivepython.org/runestone/static/pythonds/_images/buildheap.png\" width=\"600\">\n",
    "(image from [http://interactivepython.org/runestone/static/pythonds/_images/buildheap.png](http://interactivepython.org/runestone/static/pythonds/_images/buildheap.png))"
   ]
  },
  {
   "cell_type": "markdown",
   "metadata": {},
   "source": [
    "## Practice Problems\n",
    "Note: the following problems are adapted from Koffman and Wolfgang.\n",
    "\n",
    "### 1\n",
    "Show the heap that would be used to store the words \"this\", \"is\", \"the\", \"house\", \"that\", \"jack\", \"built\", assuming they are inserted in that sequence. Exchange the oder of arrival of the first and last words and build the new heap.\n",
    "\n",
    "### 2\n",
    "Draw the heaps for the previous problem as arrays.\n",
    "\n",
    "### 3\n",
    "Show the result of removing the word \"house\" from the heaps in the previous problem.\n",
    "\n",
    "### 4\n",
    "A max heap is a heap in which each element has a key that is smaller than its parent, so the largest key is a the top of the heap. Build the max heap that would result from the numbers 15, 25, 10, 33, 55, 47, 82, 90, 18."
   ]
  }
 ],
 "metadata": {
  "anaconda-cloud": {},
  "kernelspec": {
   "display_name": "Python [Root]",
   "language": "python",
   "name": "Python [Root]"
  },
  "language_info": {
   "codemirror_mode": {
    "name": "ipython",
    "version": 3
   },
   "file_extension": ".py",
   "mimetype": "text/x-python",
   "name": "python",
   "nbconvert_exporter": "python",
   "pygments_lexer": "ipython3",
   "version": "3.5.2"
  }
 },
 "nbformat": 4,
 "nbformat_minor": 0
}
