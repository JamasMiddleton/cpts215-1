{
 "cells": [
  {
   "cell_type": "markdown",
   "metadata": {},
   "source": [
    "# [CptS 215 Data Analytics Systems and Algorithms](https://piazza.com/wsu/fall2017/cpts215/home)\n",
    "[Washington State University](https://wsu.edu)\n",
    "\n",
    "[Gina Sprint](http://eecs.wsu.edu/~gsprint/)\n",
    "# L5-2 Analysis of Recursion\n",
    "\n",
    "Learner objectives for this lesson\n",
    "* Analyze recursive algorithms\n",
    "\n",
    "\n",
    "## Acknowledgments\n",
    "Content used in this lesson is based upon information in the following sources:\n",
    "* No sources to report"
   ]
  },
  {
   "cell_type": "markdown",
   "metadata": {},
   "source": [
    "## Recursion\n",
    "Recursion is a method of solving problems by breaking a problem down into increasingly smaller subproblems until the subproblem is small enough to be solved trivially. A *recursive algorithm* is an algorithm that solves a problem using recursion. Recursive algorithms have the following characteristics:\n",
    "1. A base case (the small subproblem that can be trivially solved)\n",
    "2. Progress towards the base case\n",
    "3. It calls itself, recursively\n",
    "\n",
    "When implementing a recursive solution, we typically define *recursive functions*. A recursive function is a function that either directly or indirectly calls itself. \n",
    "\n",
    "Let's review binary search, a common algorithm that is covered iteratively and recursively in CptS 121/131."
   ]
  },
  {
   "cell_type": "markdown",
   "metadata": {},
   "source": [
    "### Binary Search\n",
    "Big picture: Find an item in a sorted sequence by repeatedly halving the sequence to search. \n",
    "\n",
    "Algorithm:\n",
    "1. Initialize a start index to 0\n",
    "1. Initialize an end index to the length of the list minus 1\n",
    "1. Initialize a mid index to the middle of the list\n",
    "1. While the start index <= end index:\n",
    "    1. Update mid index\n",
    "    1. If the item at mid is smaller than target, advance start to mid index plus one\n",
    "    1. Else if the item at mid is larger than target, decrement end index to mid index minus one\n",
    "    1. Else the item at mid is the target, return mid\n",
    "1. Target not found\n",
    "    \n",
    "#### Iterative BS\n",
    "Python implementation using lists:"
   ]
  },
  {
   "cell_type": "code",
   "execution_count": 3,
   "metadata": {
    "collapsed": false
   },
   "outputs": [
    {
     "name": "stdout",
     "output_type": "stream",
     "text": [
      "[1, 2, 3, 4, 5]\n",
      "3\n"
     ]
    }
   ],
   "source": [
    "import numpy.random as rand\n",
    "\n",
    "def binary_search_iterative(array, target):\n",
    "    '''\n",
    "    \n",
    "    '''\n",
    "    start = 0\n",
    "    end =  len(array) - 1\n",
    "    while start <= end:\n",
    "        mid = (start + end) // 2\n",
    "        if array[mid] < target:\n",
    "            start = mid + 1\n",
    "        elif array[mid] > target:\n",
    "            end = mid - 1\n",
    "        else:\n",
    "            return mid\n",
    "    return -1\n",
    "\n",
    "data = [1, 2, 3, 4, 5]\n",
    "print(data)\n",
    "found = binary_search_iterative(data, 4)\n",
    "print(found)"
   ]
  },
  {
   "cell_type": "markdown",
   "metadata": {},
   "source": [
    "#### Recursive BS\n",
    "Python implementation using lists:"
   ]
  },
  {
   "cell_type": "code",
   "execution_count": 4,
   "metadata": {
    "collapsed": false
   },
   "outputs": [
    {
     "name": "stdout",
     "output_type": "stream",
     "text": [
      "[1, 2, 3, 4, 5]\n",
      "3\n"
     ]
    }
   ],
   "source": [
    "import numpy.random as rand\n",
    "\n",
    "def binary_search(array, target, start, end):\n",
    "    '''\n",
    "    \n",
    "    '''\n",
    "    if start > end:\n",
    "        return -1\n",
    "    \n",
    "    mid = (start + end) // 2\n",
    "    if array[mid] < target:\n",
    "        return binary_search(array, target, mid + 1, end)\n",
    "    elif array[mid] > target:\n",
    "        return binary_search(array, target, start, mid - 1)\n",
    "    else:\n",
    "        return mid\n",
    "\n",
    "data = [1, 2, 3, 4, 5]\n",
    "print(data)\n",
    "found = binary_search(data, 4, 0, len(data))\n",
    "print(found)"
   ]
  },
  {
   "cell_type": "markdown",
   "metadata": {},
   "source": [
    "#### BS Time Complexity\n",
    "Note: repetitive division by two is represented by the mathematical function $log_{2} n$. The loop iterates $log_{2} n$ because of `mid = (start + end) // 2`\n",
    "\n",
    "* Average case: $\\mathcal{O}(log_{2} n)$\n",
    "* Worst case: $\\mathcal{O}(log_{2} n)$\n",
    "* Best case (with early exit): $\\Omega(1)$"
   ]
  },
  {
   "cell_type": "markdown",
   "metadata": {},
   "source": [
    "### Another Recursive Example"
   ]
  },
  {
   "cell_type": "code",
   "execution_count": 2,
   "metadata": {
    "collapsed": true
   },
   "outputs": [],
   "source": [
    "def f1(n):\n",
    "    '''\n",
    "    \n",
    "    '''\n",
    "    if n > 0:\n",
    "        f1(n - 1)\n",
    "        f1(n - 1)\n",
    "        f1(n - 1)\n",
    "f1(3)"
   ]
  },
  {
   "cell_type": "markdown",
   "metadata": {},
   "source": [
    "Each call to `f1()` results in 3 more additional calls. If we call `f1(3)` with the argument 3, we get the following call tree:\n",
    "\n",
    "<img src=\"https://raw.githubusercontent.com/gsprint23/cpts215/master/lessons/figures/recursive_f1_tree.png\" width=700/>\n",
    "\n",
    "#### Time Complexity\n",
    "Note: repetitive multiplication by 3 is represented by the mathematical function $3^{n}$.\n",
    "\n",
    "* Average case: $\\mathcal{O}(3^{n})$\n",
    "* Worst case: $\\mathcal{O}(3^{n})$\n",
    "* Best case (`n = 0`): $\\Omega(1)$"
   ]
  },
  {
   "cell_type": "markdown",
   "metadata": {},
   "source": [
    "## Practice Problems\n",
    "### 1\n",
    "Implement the following recursive algorithms and determine each algorithm's efficiency?\n",
    "1. Factorial?\n",
    "1. String reversal?\n",
    "1. Sum of $n$ Fibonacci numbers?\n",
    "1. [Towers of Hanoi](https://en.wikipedia.org/wiki/Tower_of_Hanoi)?\n",
    "\n",
    "### 2\n",
    "What is $\\mathcal{O}(n)$ for the following code snippet? Justify your answer with a growth rate function or with a description."
   ]
  },
  {
   "cell_type": "code",
   "execution_count": 1,
   "metadata": {
    "collapsed": true
   },
   "outputs": [],
   "source": [
    "def func3(n):\n",
    "    if n > 1:\n",
    "        print(n)\n",
    "        func3(n - 1)\n",
    "    for i in range(n):\n",
    "        print(i)"
   ]
  },
  {
   "cell_type": "markdown",
   "metadata": {},
   "source": [
    "Answer: $\\mathcal{O}(n) = n^{2}$ \n",
    "\n",
    "Recursive call will happen `n` times. Each recursive call has a for loop that runs `n`, `n - 1`, ..., 1 times: $\\frac{n(n-1)}{2}$"
   ]
  }
 ],
 "metadata": {
  "anaconda-cloud": {},
  "kernelspec": {
   "display_name": "Python [Root]",
   "language": "python",
   "name": "Python [Root]"
  },
  "language_info": {
   "codemirror_mode": {
    "name": "ipython",
    "version": 3
   },
   "file_extension": ".py",
   "mimetype": "text/x-python",
   "name": "python",
   "nbconvert_exporter": "python",
   "pygments_lexer": "ipython3",
   "version": "3.5.2"
  }
 },
 "nbformat": 4,
 "nbformat_minor": 0
}
