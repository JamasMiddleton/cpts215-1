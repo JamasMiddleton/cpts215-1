{
 "cells": [
  {
   "cell_type": "markdown",
   "metadata": {},
   "source": [
    "# [CptS 215 Data Analytics Systems and Algorithms](https://piazza.com/wsu/spring2017/cpts215/home)\n",
    "[Washington State University](https://wsu.edu)\n",
    "\n",
    "[Gina Sprint](http://eecs.wsu.edu/~gsprint/)\n",
    "# L10-1 Machine Learning\n",
    "\n",
    "Learner objectives for this lesson:\n",
    "* Understand what machine learning is\n",
    "* Understand the difference between supervised vs. unsupervised machine learning\n",
    "\n",
    "\n",
    "## Acknowledgments\n",
    "Content used in this lesson is based upon information in the following sources:\n",
    "* Data Science from Scratch by Joel Grus"
   ]
  },
  {
   "cell_type": "markdown",
   "metadata": {},
   "source": [
    "## Machine Learning\n",
    "At a high level, machine learning is building and using models that are learned from data. Machine learning is a subset of artificial intelligence, and it greatly overlaps with data mining. Let's see the \"unofficial\" definitions for these areas from Wikipedia:\n",
    "* [Data mining](https://en.wikipedia.org/wiki/Data_mining): The computational process of discovering patterns in large data sets involving methods at the intersection of artificial intelligence, machine learning, statistics, and database systems. It is an interdisciplinary subfield of computer science. The overall goal of the data mining process is to extract information from a data set and transform it into an understandable structure for further use.\n",
    "    * Take away point: Discovering and using patterns in data\n",
    "* [Artificial intelligence](https://en.wikipedia.org/wiki/Artificial_intelligence): The study of \"intelligent agents\": any device that perceives its environment and takes actions that maximize its chance of success at some goal. Colloquially, the term \"artificial intelligence\" is applied when a machine mimics \"cognitive\" functions that humans associate with other human minds, such as \"learning\" and \"problem solving\" (known as Machine Learning).\n",
    "    * Take away point: Implementing human-cognition on a machine\n",
    "* [Machine learning](https://en.wikipedia.org/wiki/Machine_learning): The subfield of computer science that, according to Arthur Samuel in 1959, gives \"computers the ability to learn without being explicitly programmed.\" Evolved from the study of pattern recognition and computational learning theory in artificial intelligence, machine learning explores the study and construction of algorithms that can learn from and make predictions on data – such algorithms overcome following strictly static program instructions by making data driven predictions or decisions, through building a model from sample inputs.\n",
    "    * Take away point: Learning from and making predictions on data\n",
    "    \n",
    "At WSU, we have full classes in each one of these areas. In CptS 215, we are learning the data structures that underlie many of the algorithms in these fields. For example, we have already learning about the $k$-means clustering algorithm and how it can be used to group data examples together. This algorithm is an example of an *unsupervised* machine learning algorithm."
   ]
  },
  {
   "cell_type": "markdown",
   "metadata": {},
   "source": [
    "## Supervised Learning\n",
    "Supervised learning requires labeled training data from a \"supervisor.\" Such labels are considered the ground-truth for describing the data. The label comes from a knowledgeable expert and can be used to learn what information describes different labels.\n",
    "\n",
    "Supervised learning is typically composed of training and testing. We will train a machine (AKA a student, learner, mathematical model) to learn a concept. Then we will test the machine's learned concept by applying their knowledge.\n",
    "\n",
    "### Training\n",
    "As an example, suppose you are trying to teach someone (say a student) who has no notion of a cat or dog, the concept of cat vs. dog. You might first show the student some pictures of cats and say, \"these are cats\". Then you might show the person some pictures of dogs and say, \"these are dogs\". The set of cat and dog images is called the *training set*, a set of examples (also known as features). For example, consider the following cat vs. dog training set:\n",
    "\n",
    "<img src=\"https://raw.githubusercontent.com/gsprint23/cpts215/master/lessons/figures/cat_dog_training.png\" width=\"500\"/>\n",
    "\n",
    "The student is going to look at different attributes of the image to try to learn a model of cat and a model of a dog. In doing so, the student will identify some aspects (or *features*) of the examples that distinguish a cat vs a dog. The features might include:\n",
    "\n",
    "|Feature|Cat value|Dog value|\n",
    "|-|-|-|\n",
    "|Tongue out|No|Yes|\n",
    "|Fur color|Light|Dark|\n",
    "|Ears up|Yes|No|\n",
    "\n",
    "What other features did you come up with?\n",
    "\n",
    "#### Building a Model\n",
    "A model to represent cat vs. dog based on these features might be rule-based:\n",
    "\n",
    ">if tongue is out and the fur is dark and the ears are down then this is a dog\n",
    "\n",
    "We will see later how we can use a tree as a model to represent a classification such as dog vs. cat!\n",
    "\n",
    "### Testing\n",
    "Now, suppose we want to apply the student's learned conception of dog vs. cat by providing the student with a new, unseen example:\n",
    "\n",
    "<img src=\"https://raw.githubusercontent.com/gsprint23/cpts215/master/lessons/figures/cat_or_dog.png\" width=\"150\"/>\n",
    "\n",
    "Based on the above features, this image has the tongue out (dog), light fur color (cat), and ears up (cat). Thus our student would likely classify this image as a cat. But wait! We (the expert supervisors) know this is a dog (a puppy, but a dog none the less). Our training set didn't include any images that were as borderline cat/dog as this testing example. As you can see, the examples that comprise your training set and the features that are utilized greatly impact the accuracy of the learner, and consequently the model that is built. \n",
    "\n",
    "### Supervised Models\n",
    "The field of supervised machine learning is quite vast. We are only going to just scratch the surface enough to implement a machine learning model called a decision tree. You will learn more about machine learning in your future data analytics classes :) For the inquiring minds, here are a few of the most popular supervised learning models with links to find out more information about them:\n",
    "* [Decision trees](https://en.wikipedia.org/wiki/Decision_tree_learning)\n",
    "* [Regression analysis](https://en.wikipedia.org/wiki/Regression_analysis)\n",
    "* [Support vector machines](https://en.wikipedia.org/wiki/Support_vector_machine)\n",
    "* [Naive Bayes'](https://en.wikipedia.org/wiki/Naive_Bayes_classifier)\n",
    "* [Neural networks](https://en.wikipedia.org/wiki/Artificial_neural_network)\n",
    "\n",
    "There is also a great [machine learning course](https://www.coursera.org/learn/machine-learning?utm_source=gg&utm_medium=sem&campaignid=685340575&adgroupid=32639001781&device=c&keyword=machine%20learning%20tutorial&matchtype=e&network=g&devicemodel=&adpostion=1t2&creativeid=176448312903&hide_mobile_promo&gclid=Cj0KEQjwxbDIBRCL99Wls-nLicoBEiQAWroh6s653zQm-VeTv7AfhYWijaykf_XRX-NEbfMaZ18_lHQaAhlM8P8HAQ) by Andrew Ng on Coursera. Check it out!"
   ]
  },
  {
   "cell_type": "markdown",
   "metadata": {},
   "source": [
    "## Unsupervised Learning\n",
    "Unsupervised learning does not require labeled training data. Information learned from the examples is data-driven and includes the process of discovering and describing patterns in the data. \n",
    "\n",
    "For example, to apply unsupervised learning to our cat vs. dog example, we would not try to \"train\" our student to learn the notion of \"cat\" or \"dog\". Instead, we would have our student look for patterns in the data, or perhaps a natural grouping. \n",
    "\n",
    "Here are our cat-dog training examples sorted in order based on the feature fur color:\n",
    "\n",
    "<img src=\"https://raw.githubusercontent.com/gsprint23/cpts215/master/lessons/figures/cat_dog_fur_ordering.png\" width=\"500\"/>\n",
    "\n",
    "We could apply a clustering algorithm, such as $k$-means clustering that we have already learned and implemented, to the data to reveal two natural groups in the data ($k = 2$):\n",
    "\n",
    "<img src=\"https://raw.githubusercontent.com/gsprint23/cpts215/master/lessons/figures/cat_dog_grouping.png\" width=\"500\"/>\n",
    "\n",
    "Note that these two groups, blue and red, are not representative of cat and dog, since we have no cat/dog labels!\n",
    "\n",
    "Now, upon seeing a new example, we can determine the new examples membership to either the blue group or the red group:\n",
    "\n",
    "<img src=\"https://raw.githubusercontent.com/gsprint23/cpts215/master/lessons/figures/cat_dog_membership.png\" width=\"500\"/>\n",
    "\n",
    "Like supervised machine learning, there are several unsupervised machine learning algorithms. Here are a few of the most popular unsupervised learning models with links to find out more information about them:\n",
    "* [Clustering](https://en.wikipedia.org/wiki/Cluster_analysis) such as k-means, hierarchical, and mixture models\n",
    "    * Note: we will cover hierarchical clustering when we cover trees!\n",
    "* [Anomaly (outlier) detection](https://en.wikipedia.org/wiki/Anomaly_detection)\n",
    "* [Artificial neural networks](https://en.wikipedia.org/wiki/Artificial_neural_network#Unsupervised_learning)"
   ]
  }
 ],
 "metadata": {
  "anaconda-cloud": {},
  "kernelspec": {
   "display_name": "Python [Root]",
   "language": "python",
   "name": "Python [Root]"
  },
  "language_info": {
   "codemirror_mode": {
    "name": "ipython",
    "version": 3
   },
   "file_extension": ".py",
   "mimetype": "text/x-python",
   "name": "python",
   "nbconvert_exporter": "python",
   "pygments_lexer": "ipython3",
   "version": "3.5.2"
  }
 },
 "nbformat": 4,
 "nbformat_minor": 0
}
