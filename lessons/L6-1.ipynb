{
 "cells": [
  {
   "cell_type": "markdown",
   "metadata": {},
   "source": [
    "# [CptS 215 Data Analytics Systems and Algorithms](https://piazza.com/wsu/fall2017/cpts215/home)\n",
    "[Washington State University](https://wsu.edu)\n",
    "\n",
    "[Gina Sprint](http://eecs.wsu.edu/~gsprint/)\n",
    "# L6-1 Merge Sort\n",
    "\n",
    "Learner objectives for this lesson:\n",
    "* Implement the merge sort algorithm\n",
    "* Perform algorithm analysis of merge sort\n",
    "\n",
    "## Acknowledgments\n",
    "Content used in this lesson is based upon information in the following sources:\n",
    "* No sources to report"
   ]
  },
  {
   "cell_type": "markdown",
   "metadata": {},
   "source": [
    "## Merge Sort\n",
    "Merge sort is a divide-and-conquer algorithm to sort a sequence. The divide and conquer algorithm strategy recursively breaks a problem into two or more subproblems, until the subproblems become simple enough to be solved directly. The solutions to the subproblems are then combined to give a solution to the original problem. Merge sort is naturally implemented recursively, though it can be implemented iteratively.\n",
    "\n",
    "Big picture: Continue dividing a sequence into 2 subsequences, until the subsequences are singletons (single item sequences). Successively merge the subsequences into sorted order until a single sequence is merged.\n",
    "\n",
    "<img src=\"https://upload.wikimedia.org/wikipedia/commons/thumb/e/e6/Merge_sort_algorithm_diagram.svg/1064px-Merge_sort_algorithm_diagram.svg.png\" width=\"500\">\n",
    "(image from [https://upload.wikimedia.org/wikipedia/commons/thumb/e/e6/Merge_sort_algorithm_diagram.svg/1064px-Merge_sort_algorithm_diagram.svg.png](https://upload.wikimedia.org/wikipedia/commons/thumb/e/e6/Merge_sort_algorithm_diagram.svg/1064px-Merge_sort_algorithm_diagram.svg.png))\n",
    "\n",
    "Algorithm:\n",
    "1. If length of the sequence to sort is > 1\n",
    "    1. Set mid index, $m = \\frac{e-s}{2}$\n",
    "    1. Split the sequence into two halves\n",
    "    1. Merge sort left half\n",
    "    1. Merge sort right half\n",
    "    1. Merge halves, preserving order\n",
    "    \n",
    "Python implementation using lists:"
   ]
  },
  {
   "cell_type": "code",
   "execution_count": 32,
   "metadata": {
    "collapsed": false
   },
   "outputs": [
    {
     "name": "stdout",
     "output_type": "stream",
     "text": [
      "[ 1.54424005  0.09322554 -1.67055246 -0.23274966  0.89682398 -0.63747903\n",
      "  0.91787838 -1.08440346  1.45616147  1.71121889]\n",
      "[-1.67055246 -1.08440346 -0.63747903 -0.23274966  0.09322554  0.89682398\n",
      "  0.91787838  1.45616147  1.54424005  1.71121889]\n"
     ]
    }
   ],
   "source": [
    "import numpy.random as rand\n",
    "\n",
    "def merge_sort(array):\n",
    "    '''\n",
    "    \n",
    "    '''\n",
    "    if len(array) <= 1:\n",
    "        return\n",
    "    mid = len(array) // 2\n",
    "    # since array is a ndarray, need to do a copy\n",
    "    # otherwise get a view\n",
    "    left = array[:mid].copy()\n",
    "    right = array[mid:].copy()\n",
    "    merge_sort(left)\n",
    "    merge_sort(right)\n",
    "    merge(array, left, right)\n",
    "    \n",
    "def merge(array, lefthalf, righthalf):\n",
    "    '''\n",
    "    \n",
    "    '''\n",
    "    i=0; j=0; k=0\n",
    "    while i < len(lefthalf) and j < len(righthalf):\n",
    "        if lefthalf[i] < righthalf[j]:\n",
    "            array[k]=lefthalf[i]\n",
    "            i=i+1\n",
    "        else:\n",
    "            array[k]=righthalf[j]\n",
    "            j=j+1\n",
    "        k=k+1\n",
    "\n",
    "    while i < len(lefthalf):\n",
    "        array[k]=lefthalf[i]\n",
    "        i=i+1\n",
    "        k=k+1\n",
    "\n",
    "    while j < len(righthalf):\n",
    "        array[k]=righthalf[j]\n",
    "        j=j+1\n",
    "        k=k+1\n",
    "   \n",
    "data = rand.randn(10)\n",
    "print(data)\n",
    "merge_sort(data)\n",
    "print(data)"
   ]
  },
  {
   "cell_type": "markdown",
   "metadata": {},
   "source": [
    "#### Merge Sort Time Complexity\n",
    "* Average case: $\\mathcal{O}(n log n)$\n",
    "* Worst case: $\\mathcal{O}(n log n)$\n",
    "* Best case: $\\Omega(n log n)$"
   ]
  },
  {
   "cell_type": "markdown",
   "metadata": {},
   "source": [
    "## Practice Problems\n",
    "\n",
    "### 1\n",
    "For the following list, 34 50 25 16 60 82 76 5 25, walk through the merge sort algorithm and show the state of the list at each pass.\n",
    "\n",
    "### 2\n",
    "What determines whether you should use a quadratic sort or a logarithmic sort?"
   ]
  }
 ],
 "metadata": {
  "anaconda-cloud": {},
  "kernelspec": {
   "display_name": "Python [Root]",
   "language": "python",
   "name": "Python [Root]"
  },
  "language_info": {
   "codemirror_mode": {
    "name": "ipython",
    "version": 3
   },
   "file_extension": ".py",
   "mimetype": "text/x-python",
   "name": "python",
   "nbconvert_exporter": "python",
   "pygments_lexer": "ipython3",
   "version": "3.5.2"
  }
 },
 "nbformat": 4,
 "nbformat_minor": 0
}
