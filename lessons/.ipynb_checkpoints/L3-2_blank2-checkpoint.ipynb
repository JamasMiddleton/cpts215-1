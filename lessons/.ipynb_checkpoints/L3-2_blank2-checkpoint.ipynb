{
 "cells": [
  {
   "cell_type": "markdown",
   "metadata": {},
   "source": [
    "# [CptS 111 Introduction to Algorithmic Problem Solving](http://piazza.com/wsu/fall2016/cpts111/home)\n",
    "[Washington State University](https://wsu.edu)\n",
    "\n",
    "\n",
    "[Gina Sprint](http://eecs.wsu.edu/~gsprint/)\n",
    "# L3-2 Modules\n",
    "\n",
    "Learner objectives for this lesson\n",
    "* Understand what a module is, how to import a module, and how to access identifiers contained within a module\n",
    "* Import the `math` module and utilize math-related variables and functions\n",
    "* Import and use the `turtle` module"
   ]
  },
  {
   "cell_type": "markdown",
   "metadata": {
    "collapsed": true
   },
   "source": [
    "## Python Modules\n",
    "A *module* is a file that contains a collection of related variables and functions. Python provides several modules for us programmers to use in our programs. In order to use the variables and functions within a module, we have to let Python know we want to use the module with an `import <name of module>` statement. "
   ]
  },
  {
   "cell_type": "code",
   "execution_count": 1,
   "metadata": {
    "collapsed": false
   },
   "outputs": [],
   "source": [
    "import math"
   ]
  },
  {
   "cell_type": "markdown",
   "metadata": {},
   "source": [
    "To access one of the variables or functions in a module, you type the module name (somewhere in the code *after* you import the module, remember Python executes code from top to bottom), followed by a dot, and then the name of the variable or function. For example, we can access an approximation of the mathematical constant `pi` ($\\pi$) in the `math` module:"
   ]
  },
  {
   "cell_type": "code",
   "execution_count": 2,
   "metadata": {
    "collapsed": false
   },
   "outputs": [
    {
     "name": "stdout",
     "output_type": "stream",
     "text": [
      "3.141592653589793\n"
     ]
    }
   ],
   "source": [
    "print(math.pi)"
   ]
  },
  {
   "cell_type": "markdown",
   "metadata": {},
   "source": [
    "As another example, to access the square root function of math, `sqrt()`:"
   ]
  },
  {
   "cell_type": "code",
   "execution_count": 4,
   "metadata": {
    "collapsed": false
   },
   "outputs": [
    {
     "name": "stdout",
     "output_type": "stream",
     "text": [
      "Help on built-in function sqrt in module math:\n",
      "\n",
      "sqrt(...)\n",
      "    sqrt(x)\n",
      "    \n",
      "    Return the square root of x.\n",
      "\n",
      "None\n",
      "2.0\n"
     ]
    }
   ],
   "source": [
    "print(help(math.sqrt))\n",
    "print(math.sqrt(4))"
   ]
  },
  {
   "cell_type": "markdown",
   "metadata": {},
   "source": [
    "## Math Functions\n",
    "\n",
    "The Python math module defines numerous useful mathematical functions. This library is an excellent example of the power of functions: commonly-used mathematical operations are packaged up in functions that can be re-used over and over. We don't have to define these functions or know how they work, we can simply call the functions and use the return value(s). Examples of math functions available for our use include:\n",
    "* `fabs()` for absolute values\n",
    "* `ceil()` for computing the ceiling of a number\n",
    "* `floor()` for computing the floor of a number\n",
    "* `cos()` for cosine function\n",
    "* `sin()` for sine function\n",
    "* `tan()` for tangent function\n",
    "* `pow()` for raising a number to its power\n",
    "* `log()` for logarithms (see also `log2()` and `log10()`\n",
    "* `sqrt()` for computing square roots\n",
    "\n",
    "Note: trig functions expect arguments in radians, not degrees. To convert degrees to radians, multiply by (`math.pi` / 180) or use the `radians()` function in the `math` module.\n",
    "\n",
    "You can find out all the functions available within a module by importing the module, typing the module name and a dot, then pressing tab. This \"auto-complete\" feature is super helpful when learning a new library or when you can't remember the name of a function."
   ]
  },
  {
   "cell_type": "code",
   "execution_count": 6,
   "metadata": {
    "collapsed": false
   },
   "outputs": [
    {
     "name": "stdout",
     "output_type": "stream",
     "text": [
      "math.fabs(-5) = 5.00\n",
      "sin(45) = 0.71\n"
     ]
    }
   ],
   "source": [
    "x = -5\n",
    "print(\"math.fabs(%d) = %.2f\" %(x, math.fabs(x)))\n",
    "\n",
    "degrees = 45\n",
    "rads = degrees * (math.pi / 180)\n",
    "print(\"sin(%d) = %.2f\" %(degrees, math.sin(rads)))"
   ]
  },
  {
   "cell_type": "markdown",
   "metadata": {},
   "source": [
    "## Turtle Graphics\n",
    "There are several Python modules available for doing graphical user interface (GUI) programming. For example, the `turtle` graphics library makes it really easy to draw pictures programmatically. We will return to `turtle` graphics later, but for now, check out how easy it is to draw:"
   ]
  },
  {
   "cell_type": "code",
   "execution_count": null,
   "metadata": {
    "collapsed": false
   },
   "outputs": [],
   "source": [
    "import turtle\n",
    "\n",
    "turt = turtle.Turtle()\n",
    "turt.forward(100)\n",
    "turtle.done()"
   ]
  },
  {
   "cell_type": "markdown",
   "metadata": {},
   "source": [
    "![](https://raw.githubusercontent.com/gsprint23/cpts111/master/lessons/figures/turtle_simple.png)"
   ]
  },
  {
   "cell_type": "markdown",
   "metadata": {},
   "source": [
    "## Example of Redundant Code: Average of 3 GPAs\n",
    "Problem Statement: Write a program that computes your grade point average after completion of 3 courses.\n",
    "\n",
    "Inputs:\n",
    "* Grade point and number of credits for course 1\n",
    "* Grade point and number of credits for course 2\n",
    "* Grade point and number of credits for course 3\n",
    "\n",
    "Outputs\n",
    "* Grade point average (GPA)\n",
    "Relevant formula: `GPA = ((grade_point1 * num_credits1) + (grade_point2 * num_credits2) + (grade_point3 * num_credits3) ) / total_num_credits`\n",
    "\n",
    "### Algorithm\n",
    "1. Prompt the user to enter in the gpa and credits for course 1\n",
    "1. Prompt the user to enter in the gpa and credits for course 2\n",
    "1. Prompt the user to enter in the gpa and credits for course 3\n",
    "1. Compute the weighted credits (numerator)\n",
    "1. Compute the total credits (denominator)\n",
    "1. Compute the weighted gpa (divide weighted credits by total credits)\n",
    "1. Display the GPA to the user\n",
    "\n",
    "\n",
    "\n",
    "Implementation:"
   ]
  },
  {
   "cell_type": "code",
   "execution_count": 7,
   "metadata": {
    "collapsed": false
   },
   "outputs": [
    {
     "name": "stdout",
     "output_type": "stream",
     "text": [
      "Please enter the credits for history 105: 3\n",
      "Please enter the gpa for history 105: 3.5\n",
      "Please enter the credits for computer science 111: 4\n",
      "Please enter the gpa for computer science 111: 4.0\n",
      "Please enter the credits for chem 105: 3\n",
      "Please enter the gpa for chem 105: 2.9\n",
      "Your GPA is: 3.52\n"
     ]
    }
   ],
   "source": [
    "credits1 = int(input(\"Please enter the credits for history 105: \"))\n",
    "gpa1 = float(input(\"Please enter the gpa for history 105: \"))\n",
    "\n",
    "credits2 = int(input(\"Please enter the credits for computer science 111: \"))\n",
    "gpa2 = float(input(\"Please enter the gpa for computer science 111: \"))\n",
    "\n",
    "credits3 = int(input(\"Please enter the credits for chem 105: \"))\n",
    "gpa3 = float(input(\"Please enter the gpa for chem 105: \"))\n",
    "\n",
    "weighted_credits = credits1 * gpa1 + credits2 * gpa2 + credits3 * gpa3\n",
    "total_credits = credits1 + credits2 + credits3\n",
    "avg_gpa = weighted_credits / total_credits\n",
    "\n",
    "print(\"Your GPA is: %.2f\" %(avg_gpa))"
   ]
  },
  {
   "cell_type": "markdown",
   "metadata": {},
   "source": [
    "What do you think of this example? It seems redundant, right? We're using the exact same sequence of commands (`print()` and `input()`) to obtain the three grade points and credits. Is there a better (less redundant, easier to read, more concise) way to approach this problem? Enter: Functions!!"
   ]
  },
  {
   "cell_type": "markdown",
   "metadata": {},
   "source": [
    "## TODO\n",
    "1. Work on PA1, it is due Monday, September 12th at midnight.\n",
    "1. Read Chapter 3 (Functions) in the textbook.\n",
    "\n",
    "## Next Lesson\n",
    "We will define our own functions!!"
   ]
  }
 ],
 "metadata": {
  "kernelspec": {
   "display_name": "Python 3",
   "language": "python",
   "name": "python3"
  },
  "language_info": {
   "codemirror_mode": {
    "name": "ipython",
    "version": 3
   },
   "file_extension": ".py",
   "mimetype": "text/x-python",
   "name": "python",
   "nbconvert_exporter": "python",
   "pygments_lexer": "ipython3",
   "version": "3.5.1"
  }
 },
 "nbformat": 4,
 "nbformat_minor": 0
}
