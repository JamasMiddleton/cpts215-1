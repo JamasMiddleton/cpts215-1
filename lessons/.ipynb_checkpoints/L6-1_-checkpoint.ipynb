{
 "cells": [
  {
   "cell_type": "markdown",
   "metadata": {},
   "source": [
    "# [CptS 111 Introduction to Algorithmic Problem Solving](http://eecs.wsu.edu/~gsprint/cpts111/)\n",
    "[Washington State University](wsu.edu)\n",
    "\n",
    "[Gina Sprint](http://eecs.wsu.edu/~gsprint/)\n",
    "# L10-1 More File I/O and Practice"
   ]
  },
  {
   "cell_type": "markdown",
   "metadata": {},
   "source": [
    "## The File \"Cursor\"\n",
    "When you open a file for reading (\"r\" mode), the cursor marking the current position at which to read from starts at the beginning of the file (position 0). As `readlines()` is called, the cursor moves through the file. To find out the position of the cursor, you can call `tell()`:"
   ]
  },
  {
   "cell_type": "code",
   "execution_count": 13,
   "metadata": {
    "collapsed": false
   },
   "outputs": [
    {
     "name": "stdout",
     "output_type": "stream",
     "text": [
      "File cursor is at position: 0\n",
      "File cursor is at position: 7\n",
      "First line contains: '13.42\\n' which contains 6 characters (including newline)\n"
     ]
    }
   ],
   "source": [
    "in_file = open(\"files\\\\transactions.txt\", \"r\")\n",
    "\n",
    "print(\"File cursor is at position: %d\" %(in_file.tell()))\n",
    "\n",
    "# read data from the file advances the cursor by a certain number of bytes, depending on the number of characters in the line\n",
    "transaction = in_file.readline()\n",
    "print(\"File cursor is at position: %d\" %(in_file.tell()))\n",
    "# %r placeholder displays all characters in a string. we use it see the newline character as \\n\n",
    "print(\"First line contains: %r which contains %d characters (including newline)\" %(transaction, len(transaction)))\n",
    "in_file.close()"
   ]
  },
  {
   "cell_type": "markdown",
   "metadata": {},
   "source": [
    "To move the cursor back to the beginning of the file, you can either:\n",
    "1. Close the file and re-open it\n",
    "1. Use `seek(0,0)`:"
   ]
  },
  {
   "cell_type": "code",
   "execution_count": 27,
   "metadata": {
    "collapsed": false
   },
   "outputs": [
    {
     "name": "stdout",
     "output_type": "stream",
     "text": [
      "File cursor is at position: 0\n",
      "File cursor is at position: 7\n",
      "First line contains: '13.42\\n' which contains 6 characters (including newline)\n",
      "File cursor is at position: 0\n"
     ]
    }
   ],
   "source": [
    "in_file = open(\"files\\\\transactions.txt\", \"r\")\n",
    "\n",
    "print(\"File cursor is at position: %d\" %(in_file.tell()))\n",
    "\n",
    "# read data from the file advances the cursor by a certain number of bytes, depending on the number of characters in the line\n",
    "transaction = in_file.readline()\n",
    "print(\"File cursor is at position: %d\" %(in_file.tell()))\n",
    "# %r placeholder displays all characters in a string. we use it see the newline character as \\n\n",
    "# len() returns the number of characters in the string\n",
    "print(\"First line contains: %r which contains %d characters (including newline)\" %(transaction, len(transaction)))\n",
    "# move the cursor back to the beginning of the file\n",
    "in_file.seek(0,0) \n",
    "print(\"File cursor is at position: %d\" %(in_file.tell()))\n",
    "in_file.close()"
   ]
  },
  {
   "cell_type": "markdown",
   "metadata": {},
   "source": [
    "Note: In the code above I used a built-in function called [`len()`](https://docs.python.org/3/library/functions.html#len). `len()` accepts a string as an argument and returns the number of characters in the string.\n",
    "\n",
    "Digression: On Windows, newlines are actually represented by \\r\\n (carriage return and newline). Python combines the carriage return and newline for us so we don't have to worry about this. Knowing this least helps explain the cursor position of 7 above.\n",
    "\n",
    "|Position|0|1|2|3|4|5|6|7|8|...|\n",
    "|-|-|-|-|-|-|-|-|-|-|-|\n",
    "|Character|1|3|.|4|2|\\r|\\n|2|7|...|\n",
    "\n",
    "We can remove whitespace characters (like \\n and \\r) with a call to a string function `strip()`:"
   ]
  },
  {
   "cell_type": "code",
   "execution_count": 31,
   "metadata": {
    "collapsed": false
   },
   "outputs": [
    {
     "name": "stdout",
     "output_type": "stream",
     "text": [
      "With whitespace characters: '13.42\\n' without: '13.42'\n"
     ]
    }
   ],
   "source": [
    "print(\"With whitespace characters: %r without: %r\" %(transaction, transaction.strip()))"
   ]
  },
  {
   "cell_type": "markdown",
   "metadata": {
    "collapsed": true
   },
   "source": [
    "## Common Errors when Working with Files\n",
    "* Using the wrong file handle to refer to a file\n",
    "* Opening a nonexistent file for reading\n",
    "* Opening a file for reading or writing without the appropriate access rights\n",
    "* Opening a file for writing when no disk space is available\n",
    "* Opening a file for writing (\"w\") when the users wants to preserve the previous contents of the file (\"w\" discards all contents of file)"
   ]
  },
  {
   "cell_type": "markdown",
   "metadata": {},
   "source": [
    "## Revisiting `print()`\n",
    "There are several ways to print strings with the `print()` function. We already know how to use placeholders, such as:"
   ]
  },
  {
   "cell_type": "code",
   "execution_count": 60,
   "metadata": {
    "collapsed": false
   },
   "outputs": [
    {
     "name": "stdout",
     "output_type": "stream",
     "text": [
      "Integer: 7, Float: 8.489890, Float with 1 decimal: 3.1, String: :)\n"
     ]
    }
   ],
   "source": [
    "print(\"Integer: %d, Float: %f, Float with 1 decimal: %.1f, String: %s\" %(7, 8.4898899, 3.14, \":)\"))"
   ]
  },
  {
   "cell_type": "markdown",
   "metadata": {},
   "source": [
    "It is helpful to be aware of other printing approaches, especially when you want to format output a particular way. Check out these alternatives:"
   ]
  },
  {
   "cell_type": "code",
   "execution_count": 76,
   "metadata": {
    "collapsed": false
   },
   "outputs": [
    {
     "name": "stdout",
     "output_type": "stream",
     "text": [
      "4 5.5 :P 8\n",
      "A string without the added newline characterThis sentence runs into the previous!\n",
      "A comma, separated, list\n",
      "A alternative form of placholders 10.0. You can also use keywords cpts111\n"
     ]
    }
   ],
   "source": [
    "print(4, 5.5, \":P\", 8)\n",
    "print(\"A string without the added newline character\", end=\"\")\n",
    "print(\"This sentence runs into the previous\", end=\"!\\n\")\n",
    "print(\"A comma\", \"separated\", \"list\", sep=\", \")\n",
    "\n",
    "# https://docs.python.org/3/library/string.html\n",
    "print(\"A {} form of placholders {:.1f}. You can also use keywords {name}\".format(\"alternative\", 9.99, name=\"cpts111\"))\n",
    "\n",
    "# alternative way to write to a file using print()\n",
    "fout = open(\"files\\\\out_demo.txt\", \"w\")\n",
    "print(\"Writing this output via print()\", file=fout)\n",
    "fout.close()"
   ]
  },
  {
   "cell_type": "markdown",
   "metadata": {},
   "source": [
    "## Practice\n",
    "For the following problems, we will need to download a file: [words.txt](http://thinkpython2.com/code/words.txt). This file contains 113,809 official crossword words, one per line. Using words.txt, write a program with the following functionality:\n",
    "1. A function called `open_input_file()` that opens words.txt for reading and returns the file object associated with words.txt\n",
    "1. A function called `close_file()` that accepts the file object as an argument and closes the file\n",
    "1. A function called `first_five_words()` that displays the first 5 words of the file. Try to display the words one on each line, without an extra newline between the words like:\n",
    "```\n",
    "aa\n",
    "aah\n",
    "aahed\n",
    "aahing\n",
    "aahs\n",
    "```\n",
    "Hint: read the [Python input/output tutorial](https://docs.python.org/3/tutorial/inputoutput.html) for more info about how to do this with `print()`.\n",
    "1. Displays the word nearest to the 1 millionth character\n",
    "1. Challenge: Display the character at the end of the file. Hint: read the [Python input/output tutorial](https://docs.python.org/3/tutorial/inputoutput.html) for more info about how to do this with `seek()`. Also, use the %r placeholer to print this character."
   ]
  },
  {
   "cell_type": "code",
   "execution_count": 57,
   "metadata": {
    "collapsed": false
   },
   "outputs": [
    {
     "name": "stdout",
     "output_type": "stream",
     "text": [
      "aa\n",
      "aah\n",
      "aahed\n",
      "aahing\n",
      "aahs\n",
      "\n",
      "The word nearest location 1000005: teledus\n",
      "\n",
      "The last character of the file: ''\n"
     ]
    }
   ],
   "source": [
    "def open_input_file(fname):\n",
    "    '''\n",
    "    \n",
    "    '''\n",
    "    in_file = open(fname, \"r\")\n",
    "    return in_file\n",
    "\n",
    "def close_file(file_2_close):\n",
    "    '''\n",
    "    \n",
    "    '''\n",
    "    file_2_close.close()\n",
    "    \n",
    "def first_five_words(in_file):\n",
    "    '''\n",
    "    \n",
    "    '''\n",
    "    print(in_file.readline(), end=\"\")\n",
    "    print(in_file.readline(), end=\"\")\n",
    "    print(in_file.readline(), end=\"\")\n",
    "    print(in_file.readline(), end=\"\")\n",
    "    print(in_file.readline())\n",
    "    \n",
    "def main():\n",
    "    '''\n",
    "    \n",
    "    '''\n",
    "    fin = open_input_file(\"files\\\\words.txt\")\n",
    "    first_five_words(fin)\n",
    "    \n",
    "    location = 1000005\n",
    "    fin.seek(location, 0)\n",
    "    word = fin.readline()\n",
    "    print(\"The word nearest location %d: %s\" %(location, word))\n",
    "    \n",
    "    location = 0\n",
    "    # 2 refers to the end of the file\n",
    "    fin.seek(location, 2)\n",
    "    word = fin.readline()\n",
    "    # from the tutorial\n",
    "    # f.readline() reads a single line from the file; a newline character (\\n) is left at the end of the string\n",
    "    # and is only omitted on the last line of the file if the file doesn’t end in a newline. \n",
    "    print(\"The last character of the file: %r\" %(word))\n",
    "    \n",
    "    close_file(fin)\n",
    "    \n",
    "main()"
   ]
  },
  {
   "cell_type": "markdown",
   "metadata": {},
   "source": [
    "## TODO\n",
    "1. \n",
    "\n",
    "## Next Lesson\n"
   ]
  },
  {
   "cell_type": "code",
   "execution_count": null,
   "metadata": {
    "collapsed": true
   },
   "outputs": [],
   "source": []
  }
 ],
 "metadata": {
  "kernelspec": {
   "display_name": "Python 3",
   "language": "python",
   "name": "python3"
  },
  "language_info": {
   "codemirror_mode": {
    "name": "ipython",
    "version": 3
   },
   "file_extension": ".py",
   "mimetype": "text/x-python",
   "name": "python",
   "nbconvert_exporter": "python",
   "pygments_lexer": "ipython3",
   "version": "3.5.1"
  }
 },
 "nbformat": 4,
 "nbformat_minor": 0
}
