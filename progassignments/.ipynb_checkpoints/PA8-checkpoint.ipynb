{
 "cells": [
  {
   "cell_type": "markdown",
   "metadata": {},
   "source": [
    "# [CptS 111 Introduction to Algorithmic Problem Solving](http://piazza.com/wsu/fall2016/cpts111/home)\n",
    "[Washington State University](https://wsu.edu)\n",
    "\n",
    "[Gina Sprint](http://eecs.wsu.edu/~gsprint/)\n",
    "## PA8 Objects (125 points)\n",
    "Due Monday, December 12 at Midnight.\n",
    "\n",
    "### Learner Objectives\n",
    "At the conclusion of this programming assignment, participants should be able to:\n",
    "* placeholder\n",
    "\n",
    "### Prerequisites\n",
    "Before starting this programming assignment, participants should be able to:\n",
    "* placeholder"
   ]
  },
  {
   "cell_type": "markdown",
   "metadata": {
    "collapsed": true
   },
   "source": [
    "### Overview and Requirements\n",
    "For this assignment you can choose one of the following two programs to implement for PA8:\n",
    "1. Tic Tac Toe (see Option 1: Tic Tac Toe section below)\n",
    "1. Game of your choice (see Option 2: Your Game Your Way section below)\n",
    "I want to emphasize that you are only required to implement one of the above options, **not both**."
   ]
  },
  {
   "cell_type": "markdown",
   "metadata": {},
   "source": [
    "#### Option 1: Tic Tac Toe\n",
    "Write a program (tictactoe.py) for two-player interactive game to play [Tic Tac Toe](https://en.wikipedia.org/wiki/Tic-tac-toe). The Tic Tac Toe game board consists of a total of `n` x `n` cells, where `n` is selected by the user of the game. Your program should randomly select who goes first, X or O. Once a player has been chosen, your program should prompt the player for a position (row and column) in which to draw his/her symbol. Players continue to alternate moves until either a winner has been determined or a \"scratch\" game occurs. A player wins if his/her symbols align with `n` in a row diagonally, vertically, or horizontally. A \"scratch\" game occurs if all cells on the board are occupied and no player aligned `n` of his/her symbols in a row.\n",
    "\n",
    "##### Program Details\n",
    "The underlying game board should be represented with the following structures:\n",
    "1. `Coordinate`: representing the coordinates of a cell on the board. `Coordinate` should contain the following attributes and methods (at a minimum):\n",
    "    1. `row`: a row location\n",
    "    1. `col`: a column location\n",
    "    1. `__str__()`: returns a string representation of a `Coordinate`, i.e. (0, 0)\n",
    "1. `Cell`, representing a cell on the board. `Cell` should contain the following attributes (at a minimum):\n",
    "    1. `occupied`: whether or not this cell is occupied\n",
    "    1. `symbol`: the symbol to display at this cell (X for player one, O for the other player)\n",
    "    1. `location`: the location of this cell on the board (a `Coordinate` object).\n",
    "    1. `__str__()`: returns a string representation of a `Cell`, i.e. return the symbol\n",
    "1. `TicTacToeBoard`: representing the Tic Tac Toe board. `Board` should contain the following attributes and methods (at a minimum):\n",
    "    1. `n`: dimension of board (entered by user)\n",
    "    1. `board`: the Tic Tac Toe `n` x `n` grid (a 2-Dimensional list of `Cell` objects)\n",
    "    1. `__str__()`: returns a string representation of a `TicTacToeBoard`, i.e. display the game board\n",
    "    1. `is_valid_move()`: accepts the coordinates of a cell. Returns True if the coordinates are valid and the cell is unoccuppied; otherwise returns False.\n",
    "    1. `make_move()`: accepts the coordinates of a cell and a symbol. Marks the cell with the symbol.\n",
    "    1. `is_winner()`: accepts a player symbol (X or O). Returns True if there are `n` in a row of the player symbol; otherwise returns False\n",
    " \n",
    "The program should prompt the users to determine if they want to play another game. Keep track of each player's number of wins, losses, and total game played in a `GameStats` class. When the user wants to quit playing Tic Tac Toe games, report both of the user's game stats, including:\n",
    "* Win to loss ratio\n",
    "* Percentage of games won\n",
    "* Number of scratch games\n",
    "\n",
    "Use functions and methods where appropriate!"
   ]
  },
  {
   "cell_type": "markdown",
   "metadata": {},
   "source": [
    "#### Example Run\n",
    "Here is an example run of the program:\n",
    "\n",
    "```\n",
    "Welcome to Tic Tac Toe! There are two players, player 'X' and player 'O'.\n",
    "Player X is going first.\n",
    "  0 1 2 \n",
    "0 - - - \n",
    "1 - - - \n",
    "2 - - - \n",
    "\n",
    "Player X, please enter the coordinates of your placement: 2 2\n",
    "  0 1 2 \n",
    "0 - - - \n",
    "1 - - - \n",
    "2 - - X \n",
    "\n",
    "Player O, please enter the coordinates of your placement: 1 1\n",
    "  0 1 2 \n",
    "0 - - - \n",
    "1 - O - \n",
    "2 - - X \n",
    "\n",
    "Player X, please enter the coordinates of your placement: 0 0\n",
    "  0 1 2 \n",
    "0 X - - \n",
    "1 - O - \n",
    "2 - - X \n",
    "\n",
    "Player O, please enter the coordinates of your placement: 2 1\n",
    "  0 1 2 \n",
    "0 X - - \n",
    "1 - O - \n",
    "2 - O X \n",
    "\n",
    "Player X, please enter the coordinates of your placement: 0 2\n",
    "  0 1 2 \n",
    "0 X - X \n",
    "1 - O - \n",
    "2 - O X \n",
    "\n",
    "Player O, please enter the coordinates of your placement: 0 1\n",
    "  0 1 2 \n",
    "0 X O X \n",
    "1 - O - \n",
    "2 - O X \n",
    "\n",
    "O won!\n",
    "Would you like to play again? Enter 'y' to play or 'q' to quit: y\n",
    " \n",
    "Player O is going first.\n",
    "  0 1 2 \n",
    "0 - - - \n",
    "1 - - - \n",
    "2 - - - \n",
    "\n",
    "...[output omitted for brevity]...\n",
    "\n",
    "Player O, please enter the coordinates of your placement: 1 2\n",
    "  0 1 2 \n",
    "0 O X X \n",
    "1 X O O \n",
    "2 O O X \n",
    "\n",
    "Scratch game, too bad.\n",
    "Would you like to play again? Enter 'y' to play or 'q' to quit: q\n",
    " \n",
    "\n",
    "Player X game stats\n",
    "-------------------\n",
    "Win to loss ratio: 0:1\n",
    "Win percentage: 0.00%\n",
    "Number of scratch games: 1\n",
    "\n",
    "Player O game stats\n",
    "-------------------\n",
    "Win to loss ratio: 1:0\n",
    "Win percentage: 50.00%\n",
    "Number of scratch games: 1\n",
    "```"
   ]
  },
  {
   "cell_type": "markdown",
   "metadata": {},
   "source": [
    "##### Bonus (10 pts)\n",
    "Provide a option for the user to play against the computer. Introduce some basic artificial intelligence so that the computer makes \"educated\" moves."
   ]
  },
  {
   "cell_type": "markdown",
   "metadata": {},
   "source": [
    "#### Option 2: Your Game Your Way\n",
    "Write a program (mygame.py) that is a game of your choosing. Your game can be a commonly known game or one you make up. If you choose to implement a game (or version of a game) that you didn't author, cite the game source(s) in your header comment in mygame.py.\n",
    "\n",
    "##### Program Details\n",
    "Your program needs to have adhere to the following requirements:\n",
    "1. A `GameStats` class that tracks the user(s) progress through the game (or multiple iterations of the game, as is the case with Option 1: Tic Tac Toe).\n",
    "1. At least three additional classes other than `GameStats`. These could be characters and/or weapons in your game, a board and pieces for your game, cards and a deck if it is a card game, etc.\n",
    "1. A main menu loop. This should display menu options such as:\n",
    "    1. Display game rules\n",
    "    1. Play game\n",
    "    1. Quit\n",
    "1. A main game loop. The game should exercise iteration in some way, such as taking turns between users.\n",
    "1. Make use of lists and/or dictionaries.\n",
    "1. User interaction. The game should allow the user to \"play\" and make choices.\n",
    "\n",
    "Feel free to ask me or your TA if your game idea/program meets this requirements. We are happy to hear your ideas, have fun with this assignment!\n",
    "\n",
    "Note: Keep your game simple and functional. You should strive to turn in a fully functioning, low-complexity game instead of a fancy game with lots of broken features!"
   ]
  },
  {
   "cell_type": "markdown",
   "metadata": {},
   "source": [
    "##### Game Ideas\n",
    "Here are some ideas for games. Most of these games are fairly complex. I encourage you to implement a simplified version of the game, so long as the game meets the requirements specified above.\n",
    "1. [Blackjack](https://en.wikipedia.org/wiki/Blackjack)\n",
    "1. [Poker](https://en.wikipedia.org/wiki/Poker) or [Texas Hold 'em](https://en.wikipedia.org/wiki/Texas_hold_%27em)\n",
    "1. [Dominoes](https://en.wikipedia.org/wiki/Dominoes)\n",
    "1. [Battleship](https://en.wikipedia.org/wiki/Battleship_(game))\n",
    "1. [Yahtzee](https://en.wikipedia.org/wiki/Yahtzee)\n",
    "1. [Connect Four](https://en.wikipedia.org/wiki/Connect_Four)\n",
    "1. [Rock, Paper, Scissors](https://en.wikipedia.org/wiki/Rock-paper-scissors)\n",
    "    * This game is fairly simple, so you would need to implement some basic artificial intelligence, such as in [this assignment](http://www.cse.msu.edu/~cse231/PracticeOfComputingUsingPython/03_Strings/RockPaperScissors/proj04.pdf)\n",
    "    * Also see the variant, [Rock, Paper, Scissors, Lizard, Spock](https://en.wikipedia.org/wiki/Rock-paper-scissors#Additional_weapons), that was popularized by The Big Bang Theory. Watch the episode clip [here](https://www.youtube.com/watch?v=x5Q6-wMx-K8)\n",
    "1. [Minesweeper](https://en.wikipedia.org/wiki/Minesweeper_(video_game))\n",
    "    * [Here](http://www.cse.msu.edu/~cse231/PracticeOfComputingUsingPython/08_ClassDesign/Minesweeper/Project_10.pdf) is a link to a MSU Minesweeper Python assignment to help you get started.\n",
    "1. [Aces Up](https://en.wikipedia.org/wiki/Aces_Up)\n",
    "    * This is a simplified [Solitaire](https://en.wikipedia.org/wiki/Patience_(game)) game.\n",
    "    * [Here](http://www.cse.msu.edu/~cse231/PracticeOfComputingUsingPython/07_ClassUse/Aces/proj09.doc) is a link to a MSU Aces Up Python assignment to help you get started."
   ]
  },
  {
   "cell_type": "markdown",
   "metadata": {},
   "source": [
    "##### Bonus (10 pts)\n",
    "Present your game to the class during the last day of class (12/7). The presentation should be about 5 minutes and include the following:\n",
    "1. Name of your game\n",
    "1. Inspiration for your game\n",
    "1. Demo\n",
    "1. The greatest challenge you faced and how you resolved it\n",
    "1. Directions for future work\n",
    "\n",
    "Please email me by midnight on 12/6 if you would like to do this.\n",
    "\n",
    "Note: Your game most likely will not be complete by this day of class since PA8 is due on 12/12. That is okay! Show us what you have, it will be great!"
   ]
  },
  {
   "cell_type": "markdown",
   "metadata": {},
   "source": [
    "### Submitting Assignments\n",
    "1.\tUse the Blackboard tool https://learn.wsu.edu to submit your assignment to your TA. You will submit your code to the corresponding programming assignment under the \"Content\" tab. You must upload your solutions as <your last name>_pa8.zip by the due date and time.\n",
    "2.\tYour .zip file should contain your .py file and any input/output files your program may write."
   ]
  },
  {
   "cell_type": "markdown",
   "metadata": {},
   "source": [
    "### Grading Guidelines\n",
    "This assignment is worth 125 points + 10 points bonus. Your assignment will be evaluated based on a successful compilation and adherence to the program requirements. We will grade according to the following criteria:\n",
    "* 15 pts for tracking and displaying game information with a `GameStats` object\n",
    "* 30 pts for defining and using 3 additional classes (`Coordinate`, `Cell`, and `TicTacToeBoard` for Option 1: Tic Tac Toe)\n",
    "* 15 pts for correct menu loop logic\n",
    "* 15 pts for correct game loop logic\n",
    "* 10 pts for checking user input\n",
    "* 10 pts for utilizing lists or dictionaries (2D list representing the game board grid for Option 1: Tic Tac Toe)\n",
    "* 10 pts for properly handling user interation\n",
    "* 15 pts for breaking the problem into functions and methods\n",
    "* 5 pts for adherence to proper programming style and comments established for the class"
   ]
  }
 ],
 "metadata": {
  "kernelspec": {
   "display_name": "Python 3",
   "language": "python",
   "name": "python3"
  },
  "language_info": {
   "codemirror_mode": {
    "name": "ipython",
    "version": 3
   },
   "file_extension": ".py",
   "mimetype": "text/x-python",
   "name": "python",
   "nbconvert_exporter": "python",
   "pygments_lexer": "ipython3",
   "version": "3.5.1"
  }
 },
 "nbformat": 4,
 "nbformat_minor": 0
}
