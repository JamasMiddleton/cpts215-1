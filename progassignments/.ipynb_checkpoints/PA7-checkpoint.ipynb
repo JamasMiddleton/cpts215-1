{
 "cells": [
  {
   "cell_type": "markdown",
   "metadata": {},
   "source": [
    "# [CptS 111 Introduction to Algorithmic Problem Solving](http://piazza.com/wsu/fall2016/cpts111/home)\n",
    "[Washington State University](https://wsu.edu)\n",
    "\n",
    "[Gina Sprint](http://eecs.wsu.edu/~gsprint/)\n",
    "## PA7 Lists (100 pts)\n",
    "Due Monday, November 28 at Midnight.\n",
    "\n",
    "### Learner Objectives\n",
    "At the conclusion of this programming assignment, participants should be able to:\n",
    "* Initialize, manipulate, and display lists.\n",
    "\n",
    "### Prerequisites\n",
    "Before starting this programming assignment, participants should be able to:\n",
    "* Apply basic string concepts and use string methods."
   ]
  },
  {
   "cell_type": "markdown",
   "metadata": {
    "collapsed": true
   },
   "source": [
    "### Overview and Requirements\n",
    "Write a hangman program (hangperson.py to be politically correct). If you are not familiar with the game, read about it [here](https://en.wikipedia.org/wiki/Hangman_(game)). The game is played as follows:\n",
    "1. Program selects a word for the user to guess.\n",
    "1. User guesses one letter at a time until either they guess the word, or they run out of guesses.\n",
    "\n",
    "#### Program Details\n",
    "1. Select a random word for the user to guess from a file. The file can contain a variable number of words, one per line (at least 10 words in the file).\n",
    "    1. Read the words into a list\n",
    "    1. Use `random.randrange(<start_index>, <end_index + 1>)` to select a random `word` in the list\n",
    "1. Maintain 2 lists:\n",
    "    1. `available_letters`: a list of the available letters the user can choose their guess from. Initialize `available_letters` as the lowercase alphabet. As the user guesses letters, remove the corresponding guessed letter to denote the letter has already been guessed.\n",
    "    1. `visible_letters`: a list of the not guessed letter in `word`. Initialize `visible_letters` to all dashes (\"-\"). As the user correctly guesses a letter, replace the corresponding dash(es) with the correct letter.\n",
    "1. Enter the main game loop:\n",
    "    1. Display information regarding the status of the game (string representing `visible_letters`, string representing `available_letters`, and the number of incorrect guesses remaining (the user gets 7 incorrect guesses).\n",
    "    1. Prompt user to enter their guess. If they have already guessed a letter, let the user know.\n",
    "    1. Exit the loop if they completely guess the letters of the word or they run out of incorrect guesses.\n",
    "Use functions!! You will be graded based on your organization of code. Remember, one task = one algorithm = one function."
   ]
  },
  {
   "cell_type": "markdown",
   "metadata": {},
   "source": [
    "#### Example Run\n",
    "Here is an example run of the program:\n",
    "\n",
    "```\n",
    "The word to guess has 5 letters.\n",
    "\n",
    "-----\n",
    "Available letters: abcdefghijklmnopqrstuvwxyz\n",
    "7 incorrect guesses remaining.\n",
    "Please enter your guess: \n",
    "s\n",
    "s is not in the word. Too bad. 6 incorrect guesses remaining.\n",
    "\n",
    "-----\n",
    "Available letters: abcdefghijklmnopqrtuvwxyz\n",
    "6 incorrect guesses remaining.\n",
    "Please enter your guess: \n",
    "e\n",
    "Nice! e is in the word.\n",
    "\n",
    "-e---\n",
    "Available letters: abcdfghijklmnopqrtuvwxyz\n",
    "6 incorrect guesses remaining.\n",
    "Please enter your guess: \n",
    "r\n",
    "r is not in the word. Too bad. 5 incorrect guesses remaining.\n",
    "\n",
    "-e---\n",
    "Available letters: abcdfghijklmnopqtuvwxyz\n",
    "5 incorrect guesses remaining.\n",
    "Please enter your guess: \n",
    "r\n",
    "r is not an available letter\n",
    "\n",
    "-e---\n",
    "Available letters: abcdfghijklmnopqtuvwxyz\n",
    "5 incorrect guesses remaining.\n",
    "Please enter your guess: \n",
    "l\n",
    "Nice! l is in the word.\n",
    "\n",
    "-ell-\n",
    "Available letters: abcdfghijkmnopqtuvwxyz\n",
    "5 incorrect guesses remaining.\n",
    "Please enter your guess: \n",
    "h\n",
    "Nice! h is in the word.\n",
    "\n",
    "hell-\n",
    "Available letters: abcdfgijkmnopqtuvwxyz\n",
    "5 incorrect guesses remaining.\n",
    "Please enter your guess: \n",
    "o\n",
    "Nice! o is in the word.\n",
    "Congrats, you guessed the word hello!\n",
    "```"
   ]
  },
  {
   "cell_type": "markdown",
   "metadata": {},
   "source": [
    "### Bonus (10 pts)\n",
    "Write a graphical component for your hangman game using Turtle graphics!"
   ]
  },
  {
   "cell_type": "markdown",
   "metadata": {},
   "source": [
    "### Submitting Assignments\n",
    "1.\tUse the Blackboard tool https://learn.wsu.edu to submit your assignment to your TA. You will submit your code to the corresponding programming assignment under the \"Content\" tab. You must upload your solutions as <your last name>_pa7.zip by the due date and time.\n",
    "2.\tYour .zip file should contain your .py file and your input words .txt file."
   ]
  },
  {
   "cell_type": "markdown",
   "metadata": {},
   "source": [
    "### Grading Guidelines\n",
    "This assignment is worth 100 points. Your assignment will be evaluated based on a successful compilation and adherence to the program requirements. We will grade according to the following criteria:\n",
    "* 10 pts for opening and closing the input file.\n",
    "* 10 pts for loading the words into a list and selecting a random word.\n",
    "* 20 pts for correct loop logic.\n",
    "* 10 pts for displaying game information to the user.\n",
    "* 5 pts for checking user input.\n",
    "* 10 pts for proper handling of `available_letters`.\n",
    "* 10 pts for proper handling of `visible_letters`.\n",
    "* 20 pts for breaking the problem into functions.\n",
    "* 5 pts for adherence to proper programming style and comments established for the class"
   ]
  },
  {
   "cell_type": "code",
   "execution_count": null,
   "metadata": {
    "collapsed": true
   },
   "outputs": [],
   "source": []
  }
 ],
 "metadata": {
  "kernelspec": {
   "display_name": "Python 3",
   "language": "python",
   "name": "python3"
  },
  "language_info": {
   "codemirror_mode": {
    "name": "ipython",
    "version": 3
   },
   "file_extension": ".py",
   "mimetype": "text/x-python",
   "name": "python",
   "nbconvert_exporter": "python",
   "pygments_lexer": "ipython3",
   "version": "3.5.1"
  }
 },
 "nbformat": 4,
 "nbformat_minor": 0
}
